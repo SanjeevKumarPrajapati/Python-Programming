{
 "cells": [
  {
   "cell_type": "markdown",
   "id": "5fa9a13e",
   "metadata": {},
   "source": [
    "# Math Module"
   ]
  },
  {
   "cell_type": "code",
   "execution_count": 1,
   "id": "31023cc0",
   "metadata": {},
   "outputs": [],
   "source": [
    "import math"
   ]
  },
  {
   "cell_type": "markdown",
   "id": "1fba8de5",
   "metadata": {},
   "source": [
    "# acos"
   ]
  },
  {
   "cell_type": "markdown",
   "id": "ae48e2a1",
   "metadata": {},
   "source": [
    "Return the arc cosine (measured in radians) of x.\n",
    "\n",
    "The result is between 0 and pi.\n",
    "Type:      builtin_function_or_method"
   ]
  },
  {
   "cell_type": "code",
   "execution_count": 9,
   "id": "59271be0",
   "metadata": {},
   "outputs": [
    {
     "data": {
      "text/plain": [
       "0.9272952180016123"
      ]
     },
     "execution_count": 9,
     "metadata": {},
     "output_type": "execute_result"
    }
   ],
   "source": [
    "math.acos(0.6)"
   ]
  },
  {
   "cell_type": "markdown",
   "id": "0941afe0",
   "metadata": {},
   "source": [
    "# acosh"
   ]
  },
  {
   "cell_type": "raw",
   "id": "5f94f1f0",
   "metadata": {},
   "source": [
    "Return the inverse hyperbolic cosine of x.\n",
    "Type:      builtin_function_or_method"
   ]
  },
  {
   "cell_type": "code",
   "execution_count": 13,
   "id": "fda97305",
   "metadata": {},
   "outputs": [
    {
     "data": {
      "text/plain": [
       "2.2924316695611777"
      ]
     },
     "execution_count": 13,
     "metadata": {},
     "output_type": "execute_result"
    }
   ],
   "source": [
    "math.acosh(5)"
   ]
  },
  {
   "cell_type": "markdown",
   "id": "c9ca9c52",
   "metadata": {},
   "source": [
    "# asin"
   ]
  },
  {
   "cell_type": "raw",
   "id": "34473f3f",
   "metadata": {},
   "source": [
    "Return the arc sine (measured in radians) of x.\n",
    "\n",
    "The result is between -pi/2 and pi/2.\n",
    "Type:      builtin_function_or_method"
   ]
  },
  {
   "cell_type": "code",
   "execution_count": 14,
   "id": "e044fa58",
   "metadata": {},
   "outputs": [
    {
     "data": {
      "text/plain": [
       "0.5235987755982989"
      ]
     },
     "execution_count": 14,
     "metadata": {},
     "output_type": "execute_result"
    }
   ],
   "source": [
    "math.asin(0.5)"
   ]
  },
  {
   "cell_type": "markdown",
   "id": "76f40b08",
   "metadata": {},
   "source": [
    "# asinh"
   ]
  },
  {
   "cell_type": "raw",
   "id": "d54d5d24",
   "metadata": {},
   "source": [
    "Return the inverse hyperbolic sine of x.\n",
    "Type:      builtin_function_or_method"
   ]
  },
  {
   "cell_type": "code",
   "execution_count": 15,
   "id": "9acdde6b",
   "metadata": {},
   "outputs": [
    {
     "data": {
      "text/plain": [
       "2.491779852644912"
      ]
     },
     "execution_count": 15,
     "metadata": {},
     "output_type": "execute_result"
    }
   ],
   "source": [
    "math.asinh(6)"
   ]
  },
  {
   "cell_type": "markdown",
   "id": "b9302cb3",
   "metadata": {},
   "source": [
    "# atan"
   ]
  },
  {
   "cell_type": "raw",
   "id": "35bb96d3",
   "metadata": {},
   "source": [
    "Return the arc tangent (measured in radians) of x.\n",
    "\n",
    "The result is between -pi/2 and pi/2.\n",
    "Type:      builtin_function_or_method"
   ]
  },
  {
   "cell_type": "code",
   "execution_count": 16,
   "id": "7155258b",
   "metadata": {},
   "outputs": [
    {
     "data": {
      "text/plain": [
       "1.4711276743037347"
      ]
     },
     "execution_count": 16,
     "metadata": {},
     "output_type": "execute_result"
    }
   ],
   "source": [
    "math.atan(10)"
   ]
  },
  {
   "cell_type": "markdown",
   "id": "a0be5210",
   "metadata": {},
   "source": [
    "# atanh"
   ]
  },
  {
   "cell_type": "raw",
   "id": "f93d2b46",
   "metadata": {},
   "source": [
    "Return the inverse hyperbolic tangent of x.\n",
    "Type:      builtin_function_or_method"
   ]
  },
  {
   "cell_type": "code",
   "execution_count": 18,
   "id": "b979c44e",
   "metadata": {},
   "outputs": [
    {
     "data": {
      "text/plain": [
       "0.42364893019360184"
      ]
     },
     "execution_count": 18,
     "metadata": {},
     "output_type": "execute_result"
    }
   ],
   "source": [
    "math.atanh(0.4)"
   ]
  },
  {
   "cell_type": "markdown",
   "id": "301dc3f0",
   "metadata": {},
   "source": [
    "# comb"
   ]
  },
  {
   "cell_type": "raw",
   "id": "98a44144",
   "metadata": {},
   "source": [
    "Number of ways to choose k items from n items without repetition and without order.\n",
    "\n",
    "Evaluates to n! / (k! * (n - k)!) when k <= n and evaluates\n",
    "to zero when k > n.\n",
    "\n",
    "Also called the binomial coefficient because it is equivalent\n",
    "to the coefficient of k-th term in polynomial expansion of the\n",
    "expression (1 + x)**n.\n",
    "\n",
    "Raises TypeError if either of the arguments are not integers.\n",
    "Raises ValueError if either of the arguments are negative.\n",
    "Type:      builtin_function_or_method"
   ]
  },
  {
   "cell_type": "code",
   "execution_count": 19,
   "id": "7613472b",
   "metadata": {},
   "outputs": [
    {
     "data": {
      "text/plain": [
       "45"
      ]
     },
     "execution_count": 19,
     "metadata": {},
     "output_type": "execute_result"
    }
   ],
   "source": [
    "math.comb(10,2)"
   ]
  },
  {
   "cell_type": "markdown",
   "id": "a162c563",
   "metadata": {},
   "source": [
    "# dist"
   ]
  },
  {
   "cell_type": "raw",
   "id": "963aaee4",
   "metadata": {},
   "source": [
    "Return the Euclidean distance between two points p and q.\n",
    "\n",
    "The points should be specified as sequences (or iterables) of\n",
    "coordinates.  Both inputs must have the same dimension.\n",
    "\n",
    "Roughly equivalent to:\n",
    "    sqrt(sum((px - qx) ** 2.0 for px, qx in zip(p, q)))\n",
    "Type:      builtin_function_or_method"
   ]
  },
  {
   "cell_type": "code",
   "execution_count": 22,
   "id": "fedd0050",
   "metadata": {},
   "outputs": [
    {
     "data": {
      "text/plain": [
       "2.0"
      ]
     },
     "execution_count": 22,
     "metadata": {},
     "output_type": "execute_result"
    }
   ],
   "source": [
    "math.dist((2,3),(2,1))"
   ]
  },
  {
   "cell_type": "markdown",
   "id": "45afcf17",
   "metadata": {},
   "source": [
    "# exp"
   ]
  },
  {
   "cell_type": "raw",
   "id": "c453672d",
   "metadata": {},
   "source": [
    "Return e raised to the power of x.\n",
    "Type:      builtin_function_or_method"
   ]
  },
  {
   "cell_type": "code",
   "execution_count": 27,
   "id": "497d5bf9",
   "metadata": {},
   "outputs": [
    {
     "data": {
      "text/plain": [
       "7.38905609893065"
      ]
     },
     "execution_count": 27,
     "metadata": {},
     "output_type": "execute_result"
    }
   ],
   "source": [
    "math.exp(2)"
   ]
  },
  {
   "cell_type": "markdown",
   "id": "e959d33e",
   "metadata": {},
   "source": [
    "# factorial"
   ]
  },
  {
   "cell_type": "raw",
   "id": "2012c41e",
   "metadata": {},
   "source": [
    "Find x!.\n",
    "\n",
    "Raise a ValueError if x is negative or non-integral.\n",
    "Type:      builtin_function_or_method"
   ]
  },
  {
   "cell_type": "code",
   "execution_count": 28,
   "id": "7b403e86",
   "metadata": {},
   "outputs": [
    {
     "data": {
      "text/plain": [
       "120"
      ]
     },
     "execution_count": 28,
     "metadata": {},
     "output_type": "execute_result"
    }
   ],
   "source": [
    "math.factorial(5)"
   ]
  },
  {
   "cell_type": "markdown",
   "id": "9442e86d",
   "metadata": {},
   "source": [
    "# floor"
   ]
  },
  {
   "cell_type": "raw",
   "id": "8085291c",
   "metadata": {},
   "source": [
    "Return the floor of x as an Integral.\n",
    "\n",
    "This is the largest integer <= x.\n",
    "Type:      builtin_function_or_method"
   ]
  },
  {
   "cell_type": "code",
   "execution_count": 32,
   "id": "ec8dfc45",
   "metadata": {},
   "outputs": [
    {
     "data": {
      "text/plain": [
       "5"
      ]
     },
     "execution_count": 32,
     "metadata": {},
     "output_type": "execute_result"
    }
   ],
   "source": [
    "math.floor(5.1)"
   ]
  },
  {
   "cell_type": "markdown",
   "id": "02e33f2d",
   "metadata": {},
   "source": [
    "# fmod"
   ]
  },
  {
   "cell_type": "raw",
   "id": "a0deb862",
   "metadata": {},
   "source": [
    "Return fmod(x, y), according to platform C.\n",
    "\n",
    "x % y may differ.\n",
    "Type:      builtin_function_or_method"
   ]
  },
  {
   "cell_type": "code",
   "execution_count": 34,
   "id": "7de2aef2",
   "metadata": {},
   "outputs": [
    {
     "data": {
      "text/plain": [
       "1.0"
      ]
     },
     "execution_count": 34,
     "metadata": {},
     "output_type": "execute_result"
    }
   ],
   "source": [
    "math.fmod(10,3)"
   ]
  },
  {
   "cell_type": "markdown",
   "id": "f038b08f",
   "metadata": {},
   "source": [
    "# LCM"
   ]
  },
  {
   "cell_type": "raw",
   "id": "4563d80e",
   "metadata": {},
   "source": [
    "Least Common Multiple.\n",
    "Type:      builtin_function_or_method"
   ]
  },
  {
   "cell_type": "code",
   "execution_count": 36,
   "id": "9ac8806d",
   "metadata": {},
   "outputs": [
    {
     "data": {
      "text/plain": [
       "60"
      ]
     },
     "execution_count": 36,
     "metadata": {},
     "output_type": "execute_result"
    }
   ],
   "source": [
    "math.lcm(10,20,30)"
   ]
  },
  {
   "cell_type": "markdown",
   "id": "f54e0a3c",
   "metadata": {},
   "source": [
    "# Log"
   ]
  },
  {
   "cell_type": "raw",
   "id": "3de3187e",
   "metadata": {},
   "source": [
    "log(x, [base=math.e])\n",
    "Return the logarithm of x to the given base.\n",
    "\n",
    "If the base not specified, returns the natural logarithm (base e) of x."
   ]
  },
  {
   "cell_type": "code",
   "execution_count": 38,
   "id": "09a1097c",
   "metadata": {},
   "outputs": [
    {
     "data": {
      "text/plain": [
       "0.6931471805599453"
      ]
     },
     "execution_count": 38,
     "metadata": {},
     "output_type": "execute_result"
    }
   ],
   "source": [
    "math.log(2)"
   ]
  },
  {
   "cell_type": "markdown",
   "id": "bc6a3eed",
   "metadata": {},
   "source": [
    "# Log10"
   ]
  },
  {
   "cell_type": "raw",
   "id": "f03ce530",
   "metadata": {},
   "source": [
    "Return the base 10 logarithm of x.\n",
    "Type:      builtin_function_or_method"
   ]
  },
  {
   "cell_type": "code",
   "execution_count": 39,
   "id": "47420e37",
   "metadata": {},
   "outputs": [
    {
     "data": {
      "text/plain": [
       "2.0"
      ]
     },
     "execution_count": 39,
     "metadata": {},
     "output_type": "execute_result"
    }
   ],
   "source": [
    "math.log10(100)"
   ]
  },
  {
   "cell_type": "markdown",
   "id": "3115bde6",
   "metadata": {},
   "source": [
    "# Log2"
   ]
  },
  {
   "cell_type": "raw",
   "id": "f3fd39c5",
   "metadata": {},
   "source": [
    "Return the base 2 logarithm of x."
   ]
  },
  {
   "cell_type": "code",
   "execution_count": 40,
   "id": "acadd9fb",
   "metadata": {},
   "outputs": [
    {
     "data": {
      "text/plain": [
       "2.0"
      ]
     },
     "execution_count": 40,
     "metadata": {},
     "output_type": "execute_result"
    }
   ],
   "source": [
    "math.log2(4)"
   ]
  },
  {
   "cell_type": "markdown",
   "id": "826d9aa3",
   "metadata": {},
   "source": [
    "# Pi"
   ]
  },
  {
   "cell_type": "code",
   "execution_count": 45,
   "id": "2c203c2d",
   "metadata": {},
   "outputs": [
    {
     "data": {
      "text/plain": [
       "3.141592653589793"
      ]
     },
     "execution_count": 45,
     "metadata": {},
     "output_type": "execute_result"
    }
   ],
   "source": [
    "math.pi"
   ]
  },
  {
   "cell_type": "markdown",
   "id": "7f8cc836",
   "metadata": {},
   "source": [
    "# sqrt"
   ]
  },
  {
   "cell_type": "raw",
   "id": "9c0dc607",
   "metadata": {},
   "source": [
    "Return the square root of x."
   ]
  },
  {
   "cell_type": "code",
   "execution_count": 46,
   "id": "02a29b26",
   "metadata": {},
   "outputs": [
    {
     "data": {
      "text/plain": [
       "2.23606797749979"
      ]
     },
     "execution_count": 46,
     "metadata": {},
     "output_type": "execute_result"
    }
   ],
   "source": [
    "math.sqrt(5)"
   ]
  },
  {
   "cell_type": "markdown",
   "id": "32629034",
   "metadata": {},
   "source": [
    "# Pow"
   ]
  },
  {
   "cell_type": "raw",
   "id": "9b340fec",
   "metadata": {},
   "source": [
    "Return x**y (x to the power of y)"
   ]
  },
  {
   "cell_type": "code",
   "execution_count": 47,
   "id": "887be98d",
   "metadata": {},
   "outputs": [
    {
     "data": {
      "text/plain": [
       "100.0"
      ]
     },
     "execution_count": 47,
     "metadata": {},
     "output_type": "execute_result"
    }
   ],
   "source": [
    "math.pow(10,2)"
   ]
  },
  {
   "cell_type": "code",
   "execution_count": null,
   "id": "8a73ed3b",
   "metadata": {},
   "outputs": [],
   "source": []
  }
 ],
 "metadata": {
  "kernelspec": {
   "display_name": "Python 3 (ipykernel)",
   "language": "python",
   "name": "python3"
  },
  "language_info": {
   "codemirror_mode": {
    "name": "ipython",
    "version": 3
   },
   "file_extension": ".py",
   "mimetype": "text/x-python",
   "name": "python",
   "nbconvert_exporter": "python",
   "pygments_lexer": "ipython3",
   "version": "3.10.4"
  }
 },
 "nbformat": 4,
 "nbformat_minor": 5
}
