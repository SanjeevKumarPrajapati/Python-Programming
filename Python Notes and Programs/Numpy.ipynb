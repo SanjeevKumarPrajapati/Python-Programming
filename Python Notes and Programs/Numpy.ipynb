{
 "cells": [
  {
   "cell_type": "markdown",
   "id": "d5de6993",
   "metadata": {},
   "source": [
    "# Numpy"
   ]
  },
  {
   "cell_type": "code",
   "execution_count": 1,
   "id": "b89e85b5",
   "metadata": {},
   "outputs": [],
   "source": [
    "import numpy as np"
   ]
  },
  {
   "cell_type": "code",
   "execution_count": 2,
   "id": "fc143f43",
   "metadata": {},
   "outputs": [],
   "source": [
    "a=np.array([1,2,3,4,5])"
   ]
  },
  {
   "cell_type": "code",
   "execution_count": 10,
   "id": "a0217d4c",
   "metadata": {},
   "outputs": [],
   "source": [
    "b=np.array([1,2,3,4,5])"
   ]
  },
  {
   "cell_type": "code",
   "execution_count": 3,
   "id": "19f1d6bb",
   "metadata": {},
   "outputs": [
    {
     "data": {
      "text/plain": [
       "numpy.ndarray"
      ]
     },
     "execution_count": 3,
     "metadata": {},
     "output_type": "execute_result"
    }
   ],
   "source": [
    "type(a)"
   ]
  },
  {
   "cell_type": "code",
   "execution_count": 4,
   "id": "c3d0373a",
   "metadata": {},
   "outputs": [],
   "source": [
    "import array as arr"
   ]
  },
  {
   "cell_type": "code",
   "execution_count": 5,
   "id": "2ac752e0",
   "metadata": {},
   "outputs": [],
   "source": [
    "ab=arr.array(\"i\",[1,2,3,4,5])"
   ]
  },
  {
   "cell_type": "code",
   "execution_count": 6,
   "id": "cd952551",
   "metadata": {},
   "outputs": [
    {
     "data": {
      "text/plain": [
       "array('i', [1, 2, 3, 4, 5])"
      ]
     },
     "execution_count": 6,
     "metadata": {},
     "output_type": "execute_result"
    }
   ],
   "source": [
    "ab"
   ]
  },
  {
   "cell_type": "code",
   "execution_count": 8,
   "id": "9123a83c",
   "metadata": {},
   "outputs": [
    {
     "data": {
      "text/plain": [
       "array.array"
      ]
     },
     "execution_count": 8,
     "metadata": {},
     "output_type": "execute_result"
    }
   ],
   "source": [
    "type(ab)"
   ]
  },
  {
   "cell_type": "code",
   "execution_count": 20,
   "id": "db5e1308",
   "metadata": {},
   "outputs": [],
   "source": [
    "ba=arr.array(\"i\",[1,2,3,4,5])"
   ]
  },
  {
   "cell_type": "code",
   "execution_count": 21,
   "id": "2487efee",
   "metadata": {},
   "outputs": [
    {
     "ename": "TypeError",
     "evalue": "can't multiply sequence by non-int of type 'array.array'",
     "output_type": "error",
     "traceback": [
      "\u001b[1;31m---------------------------------------------------------------------------\u001b[0m",
      "\u001b[1;31mTypeError\u001b[0m                                 Traceback (most recent call last)",
      "Input \u001b[1;32mIn [21]\u001b[0m, in \u001b[0;36m<cell line: 1>\u001b[1;34m()\u001b[0m\n\u001b[1;32m----> 1\u001b[0m \u001b[43mab\u001b[49m\u001b[38;5;241;43m*\u001b[39;49m\u001b[43mba\u001b[49m\n",
      "\u001b[1;31mTypeError\u001b[0m: can't multiply sequence by non-int of type 'array.array'"
     ]
    }
   ],
   "source": [
    "ab*ba"
   ]
  },
  {
   "cell_type": "code",
   "execution_count": 12,
   "id": "6bbb6377",
   "metadata": {},
   "outputs": [
    {
     "data": {
      "text/plain": [
       "array([ 1,  4,  9, 16, 25])"
      ]
     },
     "execution_count": 12,
     "metadata": {},
     "output_type": "execute_result"
    }
   ],
   "source": [
    "a*b#o(1)"
   ]
  },
  {
   "cell_type": "code",
   "execution_count": 22,
   "id": "5609a2ad",
   "metadata": {},
   "outputs": [
    {
     "name": "stdout",
     "output_type": "stream",
     "text": [
      "1\n",
      "4\n",
      "9\n",
      "16\n",
      "25\n"
     ]
    }
   ],
   "source": [
    "for i in range(len(ab)):#o(n)\n",
    "    print(ab[i]*ba[i])"
   ]
  },
  {
   "cell_type": "markdown",
   "id": "295a37f0",
   "metadata": {},
   "source": [
    "# Zeros"
   ]
  },
  {
   "cell_type": "code",
   "execution_count": 23,
   "id": "255ce173",
   "metadata": {},
   "outputs": [],
   "source": [
    "a=np.zeros((10,10))"
   ]
  },
  {
   "cell_type": "code",
   "execution_count": 24,
   "id": "fd010f38",
   "metadata": {},
   "outputs": [
    {
     "data": {
      "text/plain": [
       "array([[0., 0., 0., 0., 0., 0., 0., 0., 0., 0.],\n",
       "       [0., 0., 0., 0., 0., 0., 0., 0., 0., 0.],\n",
       "       [0., 0., 0., 0., 0., 0., 0., 0., 0., 0.],\n",
       "       [0., 0., 0., 0., 0., 0., 0., 0., 0., 0.],\n",
       "       [0., 0., 0., 0., 0., 0., 0., 0., 0., 0.],\n",
       "       [0., 0., 0., 0., 0., 0., 0., 0., 0., 0.],\n",
       "       [0., 0., 0., 0., 0., 0., 0., 0., 0., 0.],\n",
       "       [0., 0., 0., 0., 0., 0., 0., 0., 0., 0.],\n",
       "       [0., 0., 0., 0., 0., 0., 0., 0., 0., 0.],\n",
       "       [0., 0., 0., 0., 0., 0., 0., 0., 0., 0.]])"
      ]
     },
     "execution_count": 24,
     "metadata": {},
     "output_type": "execute_result"
    }
   ],
   "source": [
    "a"
   ]
  },
  {
   "cell_type": "markdown",
   "id": "aca2be2e",
   "metadata": {},
   "source": [
    "# One"
   ]
  },
  {
   "cell_type": "code",
   "execution_count": 26,
   "id": "f0e7fbcf",
   "metadata": {},
   "outputs": [],
   "source": [
    "b=np.ones((10,10))"
   ]
  },
  {
   "cell_type": "code",
   "execution_count": 27,
   "id": "9ffe719d",
   "metadata": {},
   "outputs": [
    {
     "data": {
      "text/plain": [
       "array([[1., 1., 1., 1., 1., 1., 1., 1., 1., 1.],\n",
       "       [1., 1., 1., 1., 1., 1., 1., 1., 1., 1.],\n",
       "       [1., 1., 1., 1., 1., 1., 1., 1., 1., 1.],\n",
       "       [1., 1., 1., 1., 1., 1., 1., 1., 1., 1.],\n",
       "       [1., 1., 1., 1., 1., 1., 1., 1., 1., 1.],\n",
       "       [1., 1., 1., 1., 1., 1., 1., 1., 1., 1.],\n",
       "       [1., 1., 1., 1., 1., 1., 1., 1., 1., 1.],\n",
       "       [1., 1., 1., 1., 1., 1., 1., 1., 1., 1.],\n",
       "       [1., 1., 1., 1., 1., 1., 1., 1., 1., 1.],\n",
       "       [1., 1., 1., 1., 1., 1., 1., 1., 1., 1.]])"
      ]
     },
     "execution_count": 27,
     "metadata": {},
     "output_type": "execute_result"
    }
   ],
   "source": [
    "b"
   ]
  },
  {
   "cell_type": "markdown",
   "id": "5f461888",
   "metadata": {},
   "source": [
    "# arange()"
   ]
  },
  {
   "cell_type": "code",
   "execution_count": 28,
   "id": "6e8fdaaa",
   "metadata": {},
   "outputs": [],
   "source": [
    "n1=np.arange(10,20)"
   ]
  },
  {
   "cell_type": "code",
   "execution_count": 29,
   "id": "49e2aa2c",
   "metadata": {},
   "outputs": [
    {
     "data": {
      "text/plain": [
       "array([10, 11, 12, 13, 14, 15, 16, 17, 18, 19])"
      ]
     },
     "execution_count": 29,
     "metadata": {},
     "output_type": "execute_result"
    }
   ],
   "source": [
    "n1"
   ]
  },
  {
   "cell_type": "code",
   "execution_count": 30,
   "id": "950b3b9c",
   "metadata": {},
   "outputs": [],
   "source": [
    "n2=np.arange(10,50,5)"
   ]
  },
  {
   "cell_type": "code",
   "execution_count": 31,
   "id": "89ce9748",
   "metadata": {},
   "outputs": [
    {
     "data": {
      "text/plain": [
       "array([10, 15, 20, 25, 30, 35, 40, 45])"
      ]
     },
     "execution_count": 31,
     "metadata": {},
     "output_type": "execute_result"
    }
   ],
   "source": [
    "n2"
   ]
  },
  {
   "cell_type": "markdown",
   "id": "442f24aa",
   "metadata": {},
   "source": [
    "# randint"
   ]
  },
  {
   "cell_type": "code",
   "execution_count": 36,
   "id": "12832d21",
   "metadata": {},
   "outputs": [],
   "source": [
    "n3=np.random.randint(1,100)"
   ]
  },
  {
   "cell_type": "code",
   "execution_count": 37,
   "id": "938da12e",
   "metadata": {},
   "outputs": [
    {
     "data": {
      "text/plain": [
       "30"
      ]
     },
     "execution_count": 37,
     "metadata": {},
     "output_type": "execute_result"
    }
   ],
   "source": [
    "n3"
   ]
  },
  {
   "cell_type": "code",
   "execution_count": 40,
   "id": "f17c7345",
   "metadata": {},
   "outputs": [],
   "source": [
    "n4=np.random.randint(1,100,5)"
   ]
  },
  {
   "cell_type": "code",
   "execution_count": 41,
   "id": "6588f136",
   "metadata": {},
   "outputs": [
    {
     "data": {
      "text/plain": [
       "array([53, 96, 76, 88, 50])"
      ]
     },
     "execution_count": 41,
     "metadata": {},
     "output_type": "execute_result"
    }
   ],
   "source": [
    "n4"
   ]
  },
  {
   "cell_type": "markdown",
   "id": "e1ce9e32",
   "metadata": {},
   "source": [
    "# Shape"
   ]
  },
  {
   "cell_type": "code",
   "execution_count": 46,
   "id": "926a6aef",
   "metadata": {},
   "outputs": [],
   "source": [
    "n5=np.array([[1,2,3,4,5]])"
   ]
  },
  {
   "cell_type": "code",
   "execution_count": 47,
   "id": "7cdaeada",
   "metadata": {},
   "outputs": [
    {
     "data": {
      "text/plain": [
       "(1, 5)"
      ]
     },
     "execution_count": 47,
     "metadata": {},
     "output_type": "execute_result"
    }
   ],
   "source": [
    "n5.shape"
   ]
  },
  {
   "cell_type": "code",
   "execution_count": 44,
   "id": "f963c431",
   "metadata": {},
   "outputs": [],
   "source": [
    "n6=np.array([[1,2,3,4],[1,2,3,4]])"
   ]
  },
  {
   "cell_type": "code",
   "execution_count": 45,
   "id": "560adc43",
   "metadata": {},
   "outputs": [
    {
     "data": {
      "text/plain": [
       "(2, 4)"
      ]
     },
     "execution_count": 45,
     "metadata": {},
     "output_type": "execute_result"
    }
   ],
   "source": [
    "n6.shape"
   ]
  },
  {
   "cell_type": "markdown",
   "id": "59ed0c98",
   "metadata": {},
   "source": [
    "# ndim"
   ]
  },
  {
   "cell_type": "code",
   "execution_count": 48,
   "id": "16614ce4",
   "metadata": {},
   "outputs": [
    {
     "data": {
      "text/plain": [
       "2"
      ]
     },
     "execution_count": 48,
     "metadata": {},
     "output_type": "execute_result"
    }
   ],
   "source": [
    "n6.ndim"
   ]
  },
  {
   "cell_type": "code",
   "execution_count": 49,
   "id": "6b6f0ab9",
   "metadata": {},
   "outputs": [],
   "source": [
    "n7=np.array([[[1,2,3],[1,2,3],[1,2,3]]])"
   ]
  },
  {
   "cell_type": "code",
   "execution_count": 50,
   "id": "76a703f1",
   "metadata": {},
   "outputs": [
    {
     "data": {
      "text/plain": [
       "3"
      ]
     },
     "execution_count": 50,
     "metadata": {},
     "output_type": "execute_result"
    }
   ],
   "source": [
    "n7.ndim"
   ]
  },
  {
   "cell_type": "markdown",
   "id": "e541b6a9",
   "metadata": {},
   "source": [
    "# itemsize()"
   ]
  },
  {
   "cell_type": "code",
   "execution_count": 51,
   "id": "bd789b67",
   "metadata": {},
   "outputs": [],
   "source": [
    "a=np.array([[1,2,3],[1,2,3]])"
   ]
  },
  {
   "cell_type": "code",
   "execution_count": 53,
   "id": "415668d7",
   "metadata": {},
   "outputs": [
    {
     "data": {
      "text/plain": [
       "4"
      ]
     },
     "execution_count": 53,
     "metadata": {},
     "output_type": "execute_result"
    }
   ],
   "source": [
    "a.itemsize"
   ]
  },
  {
   "cell_type": "markdown",
   "id": "d66440d7",
   "metadata": {},
   "source": [
    "# dtype"
   ]
  },
  {
   "cell_type": "code",
   "execution_count": 54,
   "id": "208c65ad",
   "metadata": {},
   "outputs": [
    {
     "data": {
      "text/plain": [
       "dtype('int32')"
      ]
     },
     "execution_count": 54,
     "metadata": {},
     "output_type": "execute_result"
    }
   ],
   "source": [
    "a.dtype"
   ]
  },
  {
   "cell_type": "markdown",
   "id": "0d342d4d",
   "metadata": {},
   "source": [
    "# size"
   ]
  },
  {
   "cell_type": "code",
   "execution_count": 55,
   "id": "72391be3",
   "metadata": {},
   "outputs": [
    {
     "data": {
      "text/plain": [
       "6"
      ]
     },
     "execution_count": 55,
     "metadata": {},
     "output_type": "execute_result"
    }
   ],
   "source": [
    "a.size"
   ]
  },
  {
   "cell_type": "markdown",
   "id": "13e29717",
   "metadata": {},
   "source": [
    "# reshape"
   ]
  },
  {
   "cell_type": "code",
   "execution_count": 56,
   "id": "ca78a6e8",
   "metadata": {},
   "outputs": [
    {
     "data": {
      "text/plain": [
       "array([[1, 2, 3],\n",
       "       [1, 2, 3]])"
      ]
     },
     "execution_count": 56,
     "metadata": {},
     "output_type": "execute_result"
    }
   ],
   "source": [
    "a"
   ]
  },
  {
   "cell_type": "code",
   "execution_count": 57,
   "id": "1ca37814",
   "metadata": {},
   "outputs": [
    {
     "data": {
      "text/plain": [
       "(2, 3)"
      ]
     },
     "execution_count": 57,
     "metadata": {},
     "output_type": "execute_result"
    }
   ],
   "source": [
    "a.shape"
   ]
  },
  {
   "cell_type": "code",
   "execution_count": 58,
   "id": "05b83e6b",
   "metadata": {},
   "outputs": [
    {
     "data": {
      "text/plain": [
       "array([[1, 2],\n",
       "       [3, 1],\n",
       "       [2, 3]])"
      ]
     },
     "execution_count": 58,
     "metadata": {},
     "output_type": "execute_result"
    }
   ],
   "source": [
    "a.reshape(3,2)"
   ]
  },
  {
   "cell_type": "code",
   "execution_count": 59,
   "id": "a7b73737",
   "metadata": {},
   "outputs": [
    {
     "data": {
      "text/plain": [
       "array([[1, 2, 3],\n",
       "       [1, 2, 3]])"
      ]
     },
     "execution_count": 59,
     "metadata": {},
     "output_type": "execute_result"
    }
   ],
   "source": [
    "a"
   ]
  },
  {
   "cell_type": "markdown",
   "id": "3a49494a",
   "metadata": {},
   "source": [
    "# sum"
   ]
  },
  {
   "cell_type": "code",
   "execution_count": 60,
   "id": "9d3ca8b6",
   "metadata": {},
   "outputs": [
    {
     "data": {
      "text/plain": [
       "12"
      ]
     },
     "execution_count": 60,
     "metadata": {},
     "output_type": "execute_result"
    }
   ],
   "source": [
    "a.sum()"
   ]
  },
  {
   "cell_type": "code",
   "execution_count": 61,
   "id": "4ef63803",
   "metadata": {},
   "outputs": [
    {
     "data": {
      "text/plain": [
       "array([6, 6])"
      ]
     },
     "execution_count": 61,
     "metadata": {},
     "output_type": "execute_result"
    }
   ],
   "source": [
    "a.sum(axis=1)"
   ]
  },
  {
   "cell_type": "code",
   "execution_count": 62,
   "id": "97a866c0",
   "metadata": {},
   "outputs": [
    {
     "data": {
      "text/plain": [
       "array([2, 4, 6])"
      ]
     },
     "execution_count": 62,
     "metadata": {},
     "output_type": "execute_result"
    }
   ],
   "source": [
    "a.sum(axis=0)"
   ]
  },
  {
   "cell_type": "markdown",
   "id": "f6916570",
   "metadata": {},
   "source": [
    "# dot"
   ]
  },
  {
   "cell_type": "code",
   "execution_count": 63,
   "id": "5992ad6d",
   "metadata": {},
   "outputs": [],
   "source": [
    "b=np.array([1,2,3])"
   ]
  },
  {
   "cell_type": "code",
   "execution_count": 65,
   "id": "069ec7b7",
   "metadata": {},
   "outputs": [],
   "source": [
    "c=np.array([1,2,3])"
   ]
  },
  {
   "cell_type": "code",
   "execution_count": 66,
   "id": "bc2c188a",
   "metadata": {},
   "outputs": [
    {
     "data": {
      "text/plain": [
       "14"
      ]
     },
     "execution_count": 66,
     "metadata": {},
     "output_type": "execute_result"
    }
   ],
   "source": [
    "b.dot(c)"
   ]
  },
  {
   "cell_type": "markdown",
   "id": "65f29b87",
   "metadata": {},
   "source": [
    "# eye"
   ]
  },
  {
   "cell_type": "code",
   "execution_count": 67,
   "id": "ca2ad527",
   "metadata": {},
   "outputs": [
    {
     "data": {
      "text/plain": [
       "array([[1., 0., 0., 0., 0.],\n",
       "       [0., 1., 0., 0., 0.],\n",
       "       [0., 0., 1., 0., 0.],\n",
       "       [0., 0., 0., 1., 0.],\n",
       "       [0., 0., 0., 0., 1.]])"
      ]
     },
     "execution_count": 67,
     "metadata": {},
     "output_type": "execute_result"
    }
   ],
   "source": [
    "np.eye(5,5)"
   ]
  },
  {
   "cell_type": "markdown",
   "id": "9514145c",
   "metadata": {},
   "source": [
    "# Join Numpy array"
   ]
  },
  {
   "cell_type": "code",
   "execution_count": 68,
   "id": "52e1b3b0",
   "metadata": {},
   "outputs": [],
   "source": [
    "n1=np.array([10,20,30])\n",
    "n2=np.array([40,50,60])"
   ]
  },
  {
   "cell_type": "markdown",
   "id": "390816e6",
   "metadata": {},
   "source": [
    "# vstack"
   ]
  },
  {
   "cell_type": "code",
   "execution_count": 69,
   "id": "c85d6ba4",
   "metadata": {},
   "outputs": [
    {
     "data": {
      "text/plain": [
       "array([[10, 20, 30],\n",
       "       [40, 50, 60]])"
      ]
     },
     "execution_count": 69,
     "metadata": {},
     "output_type": "execute_result"
    }
   ],
   "source": [
    "np.vstack((n1,n2))"
   ]
  },
  {
   "cell_type": "markdown",
   "id": "faf9679b",
   "metadata": {},
   "source": [
    "# hstack"
   ]
  },
  {
   "cell_type": "code",
   "execution_count": 70,
   "id": "aee52820",
   "metadata": {},
   "outputs": [
    {
     "data": {
      "text/plain": [
       "array([10, 20, 30, 40, 50, 60])"
      ]
     },
     "execution_count": 70,
     "metadata": {},
     "output_type": "execute_result"
    }
   ],
   "source": [
    "np.hstack((n1,n2))"
   ]
  },
  {
   "cell_type": "markdown",
   "id": "07a21d58",
   "metadata": {},
   "source": [
    "# column_stack"
   ]
  },
  {
   "cell_type": "code",
   "execution_count": 71,
   "id": "9e080dd3",
   "metadata": {},
   "outputs": [
    {
     "data": {
      "text/plain": [
       "array([[10, 40],\n",
       "       [20, 50],\n",
       "       [30, 60]])"
      ]
     },
     "execution_count": 71,
     "metadata": {},
     "output_type": "execute_result"
    }
   ],
   "source": [
    "np.column_stack((n1,n2))"
   ]
  },
  {
   "cell_type": "markdown",
   "id": "a4b221cf",
   "metadata": {},
   "source": [
    "# Intersection and setdiffrence"
   ]
  },
  {
   "cell_type": "code",
   "execution_count": 72,
   "id": "0e9169a5",
   "metadata": {},
   "outputs": [],
   "source": [
    "f=np.array([10,20,30,40,50,60])\n",
    "g=np.array([50,60,70,80,90,100])"
   ]
  },
  {
   "cell_type": "code",
   "execution_count": 74,
   "id": "6a716ec7",
   "metadata": {},
   "outputs": [
    {
     "data": {
      "text/plain": [
       "array([50, 60])"
      ]
     },
     "execution_count": 74,
     "metadata": {},
     "output_type": "execute_result"
    }
   ],
   "source": [
    "np.intersect1d(f,g)"
   ]
  },
  {
   "cell_type": "code",
   "execution_count": 75,
   "id": "c3901618",
   "metadata": {},
   "outputs": [
    {
     "data": {
      "text/plain": [
       "array([10, 20, 30, 40])"
      ]
     },
     "execution_count": 75,
     "metadata": {},
     "output_type": "execute_result"
    }
   ],
   "source": [
    "np.setdiff1d(f,g)"
   ]
  },
  {
   "cell_type": "code",
   "execution_count": 76,
   "id": "48b835cd",
   "metadata": {},
   "outputs": [
    {
     "data": {
      "text/plain": [
       "array([ 70,  80,  90, 100])"
      ]
     },
     "execution_count": 76,
     "metadata": {},
     "output_type": "execute_result"
    }
   ],
   "source": [
    "np.setdiff1d(g,f)"
   ]
  },
  {
   "cell_type": "code",
   "execution_count": 77,
   "id": "4a0f74fd",
   "metadata": {},
   "outputs": [
    {
     "data": {
      "text/plain": [
       "array([10, 20, 30, 40, 50, 60])"
      ]
     },
     "execution_count": 77,
     "metadata": {},
     "output_type": "execute_result"
    }
   ],
   "source": [
    "f"
   ]
  },
  {
   "cell_type": "markdown",
   "id": "efce5f70",
   "metadata": {},
   "source": [
    "# std()"
   ]
  },
  {
   "cell_type": "code",
   "execution_count": 78,
   "id": "5d9cee7e",
   "metadata": {},
   "outputs": [
    {
     "data": {
      "text/plain": [
       "17.07825127659933"
      ]
     },
     "execution_count": 78,
     "metadata": {},
     "output_type": "execute_result"
    }
   ],
   "source": [
    "np.std(f)"
   ]
  },
  {
   "cell_type": "markdown",
   "id": "a6a5fb24",
   "metadata": {},
   "source": [
    "# mean()"
   ]
  },
  {
   "cell_type": "code",
   "execution_count": 79,
   "id": "93f39a46",
   "metadata": {},
   "outputs": [
    {
     "data": {
      "text/plain": [
       "35.0"
      ]
     },
     "execution_count": 79,
     "metadata": {},
     "output_type": "execute_result"
    }
   ],
   "source": [
    "np.mean(f)"
   ]
  },
  {
   "cell_type": "code",
   "execution_count": 80,
   "id": "1670b1ac",
   "metadata": {},
   "outputs": [
    {
     "data": {
      "text/plain": [
       "35.0"
      ]
     },
     "execution_count": 80,
     "metadata": {},
     "output_type": "execute_result"
    }
   ],
   "source": [
    "np.median(f)"
   ]
  },
  {
   "cell_type": "code",
   "execution_count": 81,
   "id": "ea86ce51",
   "metadata": {},
   "outputs": [
    {
     "data": {
      "text/plain": [
       "600"
      ]
     },
     "execution_count": 81,
     "metadata": {},
     "output_type": "execute_result"
    }
   ],
   "source": [
    "len(dir(np))"
   ]
  },
  {
   "cell_type": "markdown",
   "id": "27699154",
   "metadata": {},
   "source": [
    "# How to Save the array and how to load it ? "
   ]
  },
  {
   "cell_type": "code",
   "execution_count": 82,
   "id": "24c7a3ee",
   "metadata": {},
   "outputs": [],
   "source": [
    "d=np.array([1,2,3,4,5,6,7,8,9,10])"
   ]
  },
  {
   "cell_type": "code",
   "execution_count": 83,
   "id": "5c5dbede",
   "metadata": {},
   "outputs": [],
   "source": [
    "np.save(\"my_array\",d)"
   ]
  },
  {
   "cell_type": "markdown",
   "id": "0d4d267b",
   "metadata": {},
   "source": [
    "# load array"
   ]
  },
  {
   "cell_type": "code",
   "execution_count": 85,
   "id": "eed09931",
   "metadata": {},
   "outputs": [],
   "source": [
    "g=np.load(\"my_array.npy\")"
   ]
  },
  {
   "cell_type": "code",
   "execution_count": 86,
   "id": "2ec81ed7",
   "metadata": {},
   "outputs": [
    {
     "data": {
      "text/plain": [
       "array([ 1,  2,  3,  4,  5,  6,  7,  8,  9, 10])"
      ]
     },
     "execution_count": 86,
     "metadata": {},
     "output_type": "execute_result"
    }
   ],
   "source": [
    "g"
   ]
  },
  {
   "cell_type": "code",
   "execution_count": null,
   "id": "dd98b10b",
   "metadata": {},
   "outputs": [],
   "source": []
  }
 ],
 "metadata": {
  "kernelspec": {
   "display_name": "Python 3 (ipykernel)",
   "language": "python",
   "name": "python3"
  },
  "language_info": {
   "codemirror_mode": {
    "name": "ipython",
    "version": 3
   },
   "file_extension": ".py",
   "mimetype": "text/x-python",
   "name": "python",
   "nbconvert_exporter": "python",
   "pygments_lexer": "ipython3",
   "version": "3.10.4"
  }
 },
 "nbformat": 4,
 "nbformat_minor": 5
}
