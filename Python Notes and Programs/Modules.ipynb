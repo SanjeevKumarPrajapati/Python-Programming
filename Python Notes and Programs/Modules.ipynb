{
 "cells": [
  {
   "cell_type": "markdown",
   "id": "7d3fbd74",
   "metadata": {},
   "source": [
    "# Datetime Module"
   ]
  },
  {
   "cell_type": "code",
   "execution_count": 5,
   "id": "f38cfacb",
   "metadata": {},
   "outputs": [],
   "source": [
    "import datetime"
   ]
  },
  {
   "cell_type": "code",
   "execution_count": 6,
   "id": "d8613248",
   "metadata": {},
   "outputs": [],
   "source": [
    "x=datetime.datetime.now()"
   ]
  },
  {
   "cell_type": "code",
   "execution_count": 7,
   "id": "e3b31e22",
   "metadata": {},
   "outputs": [
    {
     "data": {
      "text/plain": [
       "datetime.datetime(2022, 6, 17, 17, 20, 25, 44963)"
      ]
     },
     "execution_count": 7,
     "metadata": {},
     "output_type": "execute_result"
    }
   ],
   "source": [
    "x"
   ]
  },
  {
   "cell_type": "code",
   "execution_count": 8,
   "id": "b2ac4c05",
   "metadata": {},
   "outputs": [
    {
     "data": {
      "text/plain": [
       "'Fri'"
      ]
     },
     "execution_count": 8,
     "metadata": {},
     "output_type": "execute_result"
    }
   ],
   "source": [
    "#weekday short version\n",
    "x.strftime(\"%a\")"
   ]
  },
  {
   "cell_type": "code",
   "execution_count": 9,
   "id": "3b081175",
   "metadata": {},
   "outputs": [
    {
     "data": {
      "text/plain": [
       "'Friday'"
      ]
     },
     "execution_count": 9,
     "metadata": {},
     "output_type": "execute_result"
    }
   ],
   "source": [
    "#full version of weekdays\n",
    "x.strftime(\"%A\")"
   ]
  },
  {
   "cell_type": "code",
   "execution_count": 11,
   "id": "42683990",
   "metadata": {},
   "outputs": [
    {
     "data": {
      "text/plain": [
       "'5'"
      ]
     },
     "execution_count": 11,
     "metadata": {},
     "output_type": "execute_result"
    }
   ],
   "source": [
    "#weekday as number 0-6 if 0 :- sunday\n",
    "x.strftime(\"%w\")"
   ]
  },
  {
   "cell_type": "code",
   "execution_count": 12,
   "id": "89ede328",
   "metadata": {},
   "outputs": [
    {
     "data": {
      "text/plain": [
       "'17'"
      ]
     },
     "execution_count": 12,
     "metadata": {},
     "output_type": "execute_result"
    }
   ],
   "source": [
    "x.strftime(\"%d\")#day of month 01-31"
   ]
  },
  {
   "cell_type": "code",
   "execution_count": 13,
   "id": "7c13a5ff",
   "metadata": {},
   "outputs": [
    {
     "data": {
      "text/plain": [
       "'Jun'"
      ]
     },
     "execution_count": 13,
     "metadata": {},
     "output_type": "execute_result"
    }
   ],
   "source": [
    "x.strftime(\"%b\")#months name short version"
   ]
  },
  {
   "cell_type": "code",
   "execution_count": 14,
   "id": "623d2358",
   "metadata": {},
   "outputs": [
    {
     "data": {
      "text/plain": [
       "'June'"
      ]
     },
     "execution_count": 14,
     "metadata": {},
     "output_type": "execute_result"
    }
   ],
   "source": [
    "x.strftime(\"%B\")#Month name full version"
   ]
  },
  {
   "cell_type": "code",
   "execution_count": 15,
   "id": "f9c1045c",
   "metadata": {},
   "outputs": [
    {
     "data": {
      "text/plain": [
       "'06'"
      ]
     },
     "execution_count": 15,
     "metadata": {},
     "output_type": "execute_result"
    }
   ],
   "source": [
    "x.strftime(\"%m\")#month as a number 01-"
   ]
  },
  {
   "cell_type": "code",
   "execution_count": 16,
   "id": "ecc78f79",
   "metadata": {},
   "outputs": [
    {
     "data": {
      "text/plain": [
       "'22'"
      ]
     },
     "execution_count": 16,
     "metadata": {},
     "output_type": "execute_result"
    }
   ],
   "source": [
    "x.strftime(\"%y\")#year short version without century"
   ]
  },
  {
   "cell_type": "code",
   "execution_count": 17,
   "id": "197f6dc7",
   "metadata": {},
   "outputs": [
    {
     "data": {
      "text/plain": [
       "'2022'"
      ]
     },
     "execution_count": 17,
     "metadata": {},
     "output_type": "execute_result"
    }
   ],
   "source": [
    "x.strftime(\"%Y\")#year full version "
   ]
  },
  {
   "cell_type": "code",
   "execution_count": 18,
   "id": "4c9d3e2f",
   "metadata": {},
   "outputs": [
    {
     "data": {
      "text/plain": [
       "'17'"
      ]
     },
     "execution_count": 18,
     "metadata": {},
     "output_type": "execute_result"
    }
   ],
   "source": [
    "x.strftime(\"%H\")#hours 00-23"
   ]
  },
  {
   "cell_type": "code",
   "execution_count": 19,
   "id": "64c3ef2d",
   "metadata": {},
   "outputs": [
    {
     "data": {
      "text/plain": [
       "'05'"
      ]
     },
     "execution_count": 19,
     "metadata": {},
     "output_type": "execute_result"
    }
   ],
   "source": [
    "x.strftime(\"%I\")#hours 00-12"
   ]
  },
  {
   "cell_type": "code",
   "execution_count": 20,
   "id": "2935faf3",
   "metadata": {},
   "outputs": [
    {
     "data": {
      "text/plain": [
       "'PM'"
      ]
     },
     "execution_count": 20,
     "metadata": {},
     "output_type": "execute_result"
    }
   ],
   "source": [
    "x.strftime(\"%p\")#AM/PM"
   ]
  },
  {
   "cell_type": "code",
   "execution_count": 21,
   "id": "b19a066b",
   "metadata": {},
   "outputs": [
    {
     "data": {
      "text/plain": [
       "'20'"
      ]
     },
     "execution_count": 21,
     "metadata": {},
     "output_type": "execute_result"
    }
   ],
   "source": [
    "x.strftime(\"%M\")#minutes"
   ]
  },
  {
   "cell_type": "code",
   "execution_count": 23,
   "id": "97dbe888",
   "metadata": {},
   "outputs": [
    {
     "data": {
      "text/plain": [
       "'25'"
      ]
     },
     "execution_count": 23,
     "metadata": {},
     "output_type": "execute_result"
    }
   ],
   "source": [
    "x.strftime(\"%S\")#seconds"
   ]
  },
  {
   "cell_type": "code",
   "execution_count": 24,
   "id": "e1678202",
   "metadata": {},
   "outputs": [
    {
     "data": {
      "text/plain": [
       "'044963'"
      ]
     },
     "execution_count": 24,
     "metadata": {},
     "output_type": "execute_result"
    }
   ],
   "source": [
    "x.strftime(\"%f\")#microsecond"
   ]
  },
  {
   "cell_type": "code",
   "execution_count": 28,
   "id": "a5f87d28",
   "metadata": {},
   "outputs": [
    {
     "data": {
      "text/plain": [
       "'24'"
      ]
     },
     "execution_count": 28,
     "metadata": {},
     "output_type": "execute_result"
    }
   ],
   "source": [
    "x.strftime(\"%U\")#Week number of year ,sunday as the first day of the week"
   ]
  },
  {
   "cell_type": "code",
   "execution_count": 29,
   "id": "8051367e",
   "metadata": {},
   "outputs": [
    {
     "data": {
      "text/plain": [
       "'24'"
      ]
     },
     "execution_count": 29,
     "metadata": {},
     "output_type": "execute_result"
    }
   ],
   "source": [
    "x.strftime(\"%W\")#week number year,Monday as the first day of the week 00-53"
   ]
  },
  {
   "cell_type": "code",
   "execution_count": 32,
   "id": "552aa329",
   "metadata": {},
   "outputs": [
    {
     "data": {
      "text/plain": [
       "'Fri Jun 17 17:20:25 2022'"
      ]
     },
     "execution_count": 32,
     "metadata": {},
     "output_type": "execute_result"
    }
   ],
   "source": [
    "x.strftime(\"%c\")#local version of date and time"
   ]
  },
  {
   "cell_type": "code",
   "execution_count": 33,
   "id": "b911dc97",
   "metadata": {},
   "outputs": [
    {
     "data": {
      "text/plain": [
       "'06/17/22'"
      ]
     },
     "execution_count": 33,
     "metadata": {},
     "output_type": "execute_result"
    }
   ],
   "source": [
    "x.strftime(\"%x\")#local version of date"
   ]
  },
  {
   "cell_type": "markdown",
   "id": "f5101f13",
   "metadata": {},
   "source": [
    "# Random Module"
   ]
  },
  {
   "cell_type": "code",
   "execution_count": 34,
   "id": "a943a951",
   "metadata": {},
   "outputs": [],
   "source": [
    "import random"
   ]
  },
  {
   "cell_type": "code",
   "execution_count": 35,
   "id": "af28f6b5",
   "metadata": {},
   "outputs": [],
   "source": [
    "a=[10,20,30,40,50]"
   ]
  },
  {
   "cell_type": "code",
   "execution_count": 36,
   "id": "f0199096",
   "metadata": {},
   "outputs": [
    {
     "data": {
      "text/plain": [
       "50"
      ]
     },
     "execution_count": 36,
     "metadata": {},
     "output_type": "execute_result"
    }
   ],
   "source": [
    "random.choice(a)"
   ]
  },
  {
   "cell_type": "code",
   "execution_count": 37,
   "id": "66fb9672",
   "metadata": {},
   "outputs": [
    {
     "data": {
      "text/plain": [
       "20"
      ]
     },
     "execution_count": 37,
     "metadata": {},
     "output_type": "execute_result"
    }
   ],
   "source": [
    "random.choice(a)"
   ]
  },
  {
   "cell_type": "code",
   "execution_count": 41,
   "id": "4bf971d7",
   "metadata": {},
   "outputs": [
    {
     "data": {
      "text/plain": [
       "3"
      ]
     },
     "execution_count": 41,
     "metadata": {},
     "output_type": "execute_result"
    }
   ],
   "source": [
    "random.randint(1,10)"
   ]
  },
  {
   "cell_type": "code",
   "execution_count": 44,
   "id": "1a801d77",
   "metadata": {},
   "outputs": [
    {
     "data": {
      "text/plain": [
       "0.8298292274741775"
      ]
     },
     "execution_count": 44,
     "metadata": {},
     "output_type": "execute_result"
    }
   ],
   "source": [
    "random.random()"
   ]
  },
  {
   "cell_type": "code",
   "execution_count": 45,
   "id": "b902f283",
   "metadata": {},
   "outputs": [
    {
     "data": {
      "text/plain": [
       "0.7780599906894795"
      ]
     },
     "execution_count": 45,
     "metadata": {},
     "output_type": "execute_result"
    }
   ],
   "source": [
    "random.random()"
   ]
  },
  {
   "cell_type": "code",
   "execution_count": 46,
   "id": "6ee67b3b",
   "metadata": {},
   "outputs": [
    {
     "data": {
      "text/plain": [
       "66"
      ]
     },
     "execution_count": 46,
     "metadata": {},
     "output_type": "execute_result"
    }
   ],
   "source": [
    "len(dir(random))"
   ]
  },
  {
   "cell_type": "markdown",
   "id": "6e5f9dd6",
   "metadata": {},
   "source": [
    "# cmath"
   ]
  },
  {
   "cell_type": "code",
   "execution_count": 47,
   "id": "2ac70dc6",
   "metadata": {},
   "outputs": [],
   "source": [
    "import cmath"
   ]
  },
  {
   "cell_type": "code",
   "execution_count": 48,
   "id": "4e6f190c",
   "metadata": {},
   "outputs": [
    {
     "data": {
      "text/plain": [
       "(1.0001435424737972-1.9833870299165355j)"
      ]
     },
     "execution_count": 48,
     "metadata": {},
     "output_type": "execute_result"
    }
   ],
   "source": [
    "cmath.acos(2+3j)"
   ]
  },
  {
   "cell_type": "code",
   "execution_count": 49,
   "id": "0e90d2f9",
   "metadata": {},
   "outputs": [
    {
     "data": {
      "text/plain": [
       "(1.9833870299165355+1.0001435424737972j)"
      ]
     },
     "execution_count": 49,
     "metadata": {},
     "output_type": "execute_result"
    }
   ],
   "source": [
    "cmath.acosh(2+3j)"
   ]
  },
  {
   "cell_type": "code",
   "execution_count": 51,
   "id": "6e93bd4d",
   "metadata": {},
   "outputs": [
    {
     "data": {
      "text/plain": [
       "(9.15449914691143-4.168906959966565j)"
      ]
     },
     "execution_count": 51,
     "metadata": {},
     "output_type": "execute_result"
    }
   ],
   "source": [
    "cmath.sin(2+3j)"
   ]
  },
  {
   "cell_type": "code",
   "execution_count": 52,
   "id": "047899a3",
   "metadata": {},
   "outputs": [
    {
     "data": {
      "text/plain": [
       "(0.5706527843210994+1.9833870299165355j)"
      ]
     },
     "execution_count": 52,
     "metadata": {},
     "output_type": "execute_result"
    }
   ],
   "source": [
    "cmath.asin(2+3j)"
   ]
  },
  {
   "cell_type": "code",
   "execution_count": 53,
   "id": "6b2f5869",
   "metadata": {},
   "outputs": [
    {
     "data": {
      "text/plain": [
       "(1.9686379257930964+0.9646585044076028j)"
      ]
     },
     "execution_count": 53,
     "metadata": {},
     "output_type": "execute_result"
    }
   ],
   "source": [
    "cmath.asinh(2+3j)"
   ]
  },
  {
   "cell_type": "code",
   "execution_count": 54,
   "id": "00cb83bd",
   "metadata": {},
   "outputs": [
    {
     "data": {
      "text/plain": [
       "(-0.003764025641504249+1.00323862735361j)"
      ]
     },
     "execution_count": 54,
     "metadata": {},
     "output_type": "execute_result"
    }
   ],
   "source": [
    "cmath.tan(2+3j)"
   ]
  },
  {
   "cell_type": "code",
   "execution_count": 55,
   "id": "be4a7d41",
   "metadata": {},
   "outputs": [
    {
     "data": {
      "text/plain": [
       "(1.4099210495965755+0.22907268296853878j)"
      ]
     },
     "execution_count": 55,
     "metadata": {},
     "output_type": "execute_result"
    }
   ],
   "source": [
    "cmath.atan(2+3j)"
   ]
  },
  {
   "cell_type": "code",
   "execution_count": 56,
   "id": "e95a7ec5",
   "metadata": {},
   "outputs": [
    {
     "data": {
      "text/plain": [
       "(0.14694666622552977+1.3389725222944935j)"
      ]
     },
     "execution_count": 56,
     "metadata": {},
     "output_type": "execute_result"
    }
   ],
   "source": [
    "cmath.atanh(2+3j)"
   ]
  },
  {
   "cell_type": "code",
   "execution_count": 57,
   "id": "08defbad",
   "metadata": {},
   "outputs": [
    {
     "data": {
      "text/plain": [
       "(7.38905609893065+0j)"
      ]
     },
     "execution_count": 57,
     "metadata": {},
     "output_type": "execute_result"
    }
   ],
   "source": [
    "cmath.exp(2)#e^2=2.7123457"
   ]
  },
  {
   "cell_type": "code",
   "execution_count": 58,
   "id": "6feab774",
   "metadata": {},
   "outputs": [
    {
     "data": {
      "text/plain": [
       "(54.598150033144236+0j)"
      ]
     },
     "execution_count": 58,
     "metadata": {},
     "output_type": "execute_result"
    }
   ],
   "source": [
    "cmath.exp(4)"
   ]
  },
  {
   "cell_type": "code",
   "execution_count": 59,
   "id": "f76c60f5",
   "metadata": {},
   "outputs": [
    {
     "data": {
      "text/plain": [
       "(1.6290482690107408+1.373400766945016j)"
      ]
     },
     "execution_count": 59,
     "metadata": {},
     "output_type": "execute_result"
    }
   ],
   "source": [
    "cmath.log(1+5j)"
   ]
  },
  {
   "cell_type": "code",
   "execution_count": 60,
   "id": "874886b2",
   "metadata": {},
   "outputs": [
    {
     "data": {
      "text/plain": [
       "(3.1622776601683795+0j)"
      ]
     },
     "execution_count": 60,
     "metadata": {},
     "output_type": "execute_result"
    }
   ],
   "source": [
    "cmath.sqrt(10)"
   ]
  },
  {
   "cell_type": "code",
   "execution_count": 61,
   "id": "65a3f71f",
   "metadata": {},
   "outputs": [
    {
     "data": {
      "text/plain": [
       "2.718281828459045"
      ]
     },
     "execution_count": 61,
     "metadata": {},
     "output_type": "execute_result"
    }
   ],
   "source": [
    "cmath.e"
   ]
  },
  {
   "cell_type": "code",
   "execution_count": 62,
   "id": "2b5c0976",
   "metadata": {},
   "outputs": [
    {
     "data": {
      "text/plain": [
       "0.982793723247329"
      ]
     },
     "execution_count": 62,
     "metadata": {},
     "output_type": "execute_result"
    }
   ],
   "source": [
    "cmath.phase(2+3j)"
   ]
  },
  {
   "cell_type": "code",
   "execution_count": 63,
   "id": "6ad36115",
   "metadata": {},
   "outputs": [
    {
     "data": {
      "text/plain": [
       "3.141592653589793"
      ]
     },
     "execution_count": 63,
     "metadata": {},
     "output_type": "execute_result"
    }
   ],
   "source": [
    "cmath.pi"
   ]
  },
  {
   "cell_type": "code",
   "execution_count": 64,
   "id": "ee8dd198",
   "metadata": {},
   "outputs": [],
   "source": [
    "import math"
   ]
  },
  {
   "cell_type": "code",
   "execution_count": 65,
   "id": "7eb853f7",
   "metadata": {},
   "outputs": [
    {
     "data": {
      "text/plain": [
       "100.0"
      ]
     },
     "execution_count": 65,
     "metadata": {},
     "output_type": "execute_result"
    }
   ],
   "source": [
    "math.pow(10,2)"
   ]
  },
  {
   "cell_type": "code",
   "execution_count": 66,
   "id": "2a936eda",
   "metadata": {},
   "outputs": [
    {
     "data": {
      "text/plain": [
       "100"
      ]
     },
     "execution_count": 66,
     "metadata": {},
     "output_type": "execute_result"
    }
   ],
   "source": [
    "10**2"
   ]
  },
  {
   "cell_type": "code",
   "execution_count": 67,
   "id": "7ecadaac",
   "metadata": {},
   "outputs": [
    {
     "data": {
      "text/plain": [
       "100"
      ]
     },
     "execution_count": 67,
     "metadata": {},
     "output_type": "execute_result"
    }
   ],
   "source": [
    "pow(10,2)"
   ]
  },
  {
   "cell_type": "code",
   "execution_count": null,
   "id": "d53c7d89",
   "metadata": {},
   "outputs": [],
   "source": []
  }
 ],
 "metadata": {
  "kernelspec": {
   "display_name": "Python 3 (ipykernel)",
   "language": "python",
   "name": "python3"
  },
  "language_info": {
   "codemirror_mode": {
    "name": "ipython",
    "version": 3
   },
   "file_extension": ".py",
   "mimetype": "text/x-python",
   "name": "python",
   "nbconvert_exporter": "python",
   "pygments_lexer": "ipython3",
   "version": "3.10.4"
  }
 },
 "nbformat": 4,
 "nbformat_minor": 5
}
