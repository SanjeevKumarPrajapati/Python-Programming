{
 "cells": [
  {
   "cell_type": "markdown",
   "id": "3c721afb",
   "metadata": {},
   "source": [
    "# File Handling"
   ]
  },
  {
   "cell_type": "code",
   "execution_count": 1,
   "id": "a1daa82a",
   "metadata": {},
   "outputs": [],
   "source": [
    "#file handling in python enables to create , update , read and delete the file stored in the file system through our python \n",
    "#program.\n",
    "#1.) Open a file\n",
    "#2.) Process file(perform read or write operations)\n",
    "#3.) Close your file"
   ]
  },
  {
   "cell_type": "code",
   "execution_count": 2,
   "id": "d42cd0f3",
   "metadata": {},
   "outputs": [],
   "source": [
    "#w== writing only\n",
    "#r==read only\n",
    "#r+ == reading as well as writing\n",
    "#a==append\n",
    "#a+=append and read"
   ]
  },
  {
   "cell_type": "markdown",
   "id": "0d82f124",
   "metadata": {},
   "source": [
    "# Syntax"
   ]
  },
  {
   "cell_type": "code",
   "execution_count": 3,
   "id": "c9c5849b",
   "metadata": {},
   "outputs": [],
   "source": [
    "#file_name=open(file_name,access mode)"
   ]
  },
  {
   "cell_type": "code",
   "execution_count": 4,
   "id": "ea68c312",
   "metadata": {},
   "outputs": [],
   "source": [
    "#create your own file"
   ]
  },
  {
   "cell_type": "code",
   "execution_count": 6,
   "id": "067f5efa",
   "metadata": {},
   "outputs": [],
   "source": [
    "a=open(\"python1.txt\",\"w\")\n",
    "a.write(\"Hii i am python programmer\")\n",
    "a.write(\"\\nI am from UK\")\n",
    "a.write(\"\\nI am 24 year old\")\n",
    "a.close()"
   ]
  },
  {
   "cell_type": "code",
   "execution_count": 7,
   "id": "6a73a992",
   "metadata": {},
   "outputs": [],
   "source": [
    "#read the data"
   ]
  },
  {
   "cell_type": "code",
   "execution_count": 8,
   "id": "3cc93fcc",
   "metadata": {},
   "outputs": [
    {
     "name": "stdout",
     "output_type": "stream",
     "text": [
      "Hii i am python programmer\n",
      "I am from UK\n",
      "I am 24 year old\n"
     ]
    }
   ],
   "source": [
    "a=open(\"python1.txt\",\"r\")\n",
    "print(a.read())\n",
    "a.close()"
   ]
  },
  {
   "cell_type": "code",
   "execution_count": 9,
   "id": "8d785937",
   "metadata": {},
   "outputs": [
    {
     "name": "stdout",
     "output_type": "stream",
     "text": [
      "['Hii i am python programmer\\n', 'I am from UK\\n', 'I am 24 year old']\n"
     ]
    }
   ],
   "source": [
    "a=open(\"python1.txt\",\"r\")\n",
    "print(a.readlines())\n",
    "a.close()"
   ]
  },
  {
   "cell_type": "code",
   "execution_count": 10,
   "id": "0cb981aa",
   "metadata": {},
   "outputs": [],
   "source": [
    "#append some data in existing file"
   ]
  },
  {
   "cell_type": "code",
   "execution_count": 11,
   "id": "c843069e",
   "metadata": {},
   "outputs": [],
   "source": [
    "a=open(\"python1.txt\",\"a\")\n",
    "a.write(\"\\nGood Evening\")\n",
    "a.close()"
   ]
  },
  {
   "cell_type": "code",
   "execution_count": 12,
   "id": "f61800b9",
   "metadata": {},
   "outputs": [
    {
     "name": "stdout",
     "output_type": "stream",
     "text": [
      "Hii i am python programmer\n",
      "I am from UK\n",
      "I am 24 year old\n",
      "Good Evening\n"
     ]
    }
   ],
   "source": [
    "a=open(\"python1.txt\",\"r\")\n",
    "print(a.read())\n",
    "a.close()"
   ]
  },
  {
   "cell_type": "code",
   "execution_count": 13,
   "id": "01bbd088",
   "metadata": {},
   "outputs": [],
   "source": [
    "#data =cat,cats,catsdogcats,catxdogcatsrat,dog,dogcatsdog,hippopotamuses,rat,ratcatdogcat"
   ]
  },
  {
   "cell_type": "code",
   "execution_count": 14,
   "id": "27b901ba",
   "metadata": {},
   "outputs": [],
   "source": [
    "#Q.) Find Compund Word in the data"
   ]
  },
  {
   "cell_type": "code",
   "execution_count": 15,
   "id": "257eac00",
   "metadata": {},
   "outputs": [],
   "source": [
    "#catsdogcats\n",
    "#dogcatsdog\n",
    "#ratcatdogcat"
   ]
  },
  {
   "cell_type": "code",
   "execution_count": 23,
   "id": "686d65bf",
   "metadata": {},
   "outputs": [],
   "source": [
    "a=['catsdogcats','catxdogcatsrat','dogcatsdog','hippopotamuses','ratcatdogcat']"
   ]
  },
  {
   "cell_type": "code",
   "execution_count": 24,
   "id": "5cd4b9da",
   "metadata": {},
   "outputs": [],
   "source": [
    "b=['cat','cats','dog','rat']"
   ]
  },
  {
   "cell_type": "code",
   "execution_count": 36,
   "id": "d9aa734b",
   "metadata": {},
   "outputs": [
    {
     "name": "stdout",
     "output_type": "stream",
     "text": [
      "catsdogcats\n",
      "dogcatsdog\n",
      "ratcatdogcat\n"
     ]
    }
   ],
   "source": [
    "four=[]\n",
    "result=[]\n",
    "for i in b:\n",
    "    for j in b:\n",
    "        for k in b:\n",
    "            for l in b:\n",
    "                four.append(i+j+k+l)\n",
    "for i in b:\n",
    "    for j in b:\n",
    "        for k in b:\n",
    "            result.append(i+j+k)\n",
    "result.extend(four)\n",
    "for i in range(0,5):\n",
    "    if a[i] in result:\n",
    "        print(a[i])"
   ]
  },
  {
   "cell_type": "code",
   "execution_count": null,
   "id": "02a87913",
   "metadata": {},
   "outputs": [],
   "source": []
  }
 ],
 "metadata": {
  "kernelspec": {
   "display_name": "Python 3 (ipykernel)",
   "language": "python",
   "name": "python3"
  },
  "language_info": {
   "codemirror_mode": {
    "name": "ipython",
    "version": 3
   },
   "file_extension": ".py",
   "mimetype": "text/x-python",
   "name": "python",
   "nbconvert_exporter": "python",
   "pygments_lexer": "ipython3",
   "version": "3.10.4"
  }
 },
 "nbformat": 4,
 "nbformat_minor": 5
}
