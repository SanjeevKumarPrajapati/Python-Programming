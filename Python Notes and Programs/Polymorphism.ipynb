{
 "cells": [
  {
   "cell_type": "code",
   "execution_count": 5,
   "id": "e9277cf0",
   "metadata": {},
   "outputs": [
    {
     "name": "stdout",
     "output_type": "stream",
     "text": [
      "cat\n",
      "cats\n",
      "catsdogcats\n",
      "catxdogcatsrat\n",
      "dog\n",
      "dogcatsdog\n",
      "hippopotamuses\n",
      "rat\n",
      "ratcatdogcat\n"
     ]
    }
   ],
   "source": [
    "with open(\"Input_01.txt\",\"r\") as fp:\n",
    "    a=fp.read()\n",
    "    print(a)\n",
    "    fp.close()"
   ]
  },
  {
   "cell_type": "code",
   "execution_count": 18,
   "id": "945de7c1",
   "metadata": {},
   "outputs": [
    {
     "name": "stdout",
     "output_type": "stream",
     "text": [
      "catsdogcats\n",
      "dogcatsdog\n",
      "ratcatdogcat\n"
     ]
    }
   ],
   "source": [
    "with open(\"Input_01.txt\") as fp:\n",
    "    a=fp.readlines()\n",
    "    three_length=[]\n",
    "    four_length=[]\n",
    "    max_four=[]\n",
    "    #print(a)\n",
    "    for i in a:\n",
    "        if len(i)==5:\n",
    "            b=i.replace(\"\\n\",'')\n",
    "            four_length.append(b)\n",
    "        elif len(i)==4:\n",
    "            b=i.replace(\"\\n\",'')\n",
    "            three_length.append(b)\n",
    "        else:\n",
    "            b=i.replace(\"\\n\",'')\n",
    "            max_four.append(b)\n",
    "    three_length.extend(four_length)\n",
    "    four=[]\n",
    "    result=[]\n",
    "    for i in three_length:\n",
    "        for j in three_length:\n",
    "            for k in three_length:\n",
    "                for l in three_length:\n",
    "                    four.append(i+j+k+l)\n",
    "    for i in three_length:\n",
    "        for j in three_length:\n",
    "            for k in three_length:\n",
    "                result.append(i+j+k)\n",
    "    result.extend(four)\n",
    "    #print(result)\n",
    "    for i in range(0,5):\n",
    "        if max_four[i] in result:\n",
    "            print(max_four[i])\n",
    "    fp.close()"
   ]
  },
  {
   "cell_type": "markdown",
   "id": "b494a7e1",
   "metadata": {},
   "source": [
    "# Polymorphism"
   ]
  },
  {
   "cell_type": "code",
   "execution_count": 20,
   "id": "d7cb5206",
   "metadata": {},
   "outputs": [],
   "source": [
    "#1.) Class is diffrent\n",
    "#2.) function name is same\n",
    "#3.) Param/arge also same"
   ]
  },
  {
   "cell_type": "code",
   "execution_count": 21,
   "id": "f35a8769",
   "metadata": {},
   "outputs": [],
   "source": [
    "class Phone:\n",
    "    def sum_of_two(self,a,b):\n",
    "        self.a=a\n",
    "        self.b=b\n",
    "    def show_sum(self):\n",
    "        return self.a+self.b\n",
    "    def sum_of_three(self,a,b,c):\n",
    "        self.a=a\n",
    "        self.b=b\n",
    "        self.c=c\n",
    "    def show_sum_of_three(self):\n",
    "        return self.a+self.b+self.c\n",
    "class Phone2:\n",
    "    def sum_of_two(self,a,b):\n",
    "        self.a=a\n",
    "        self.b=b\n",
    "    def show_sum(self):\n",
    "        return self.a+self.b\n",
    "    def sum_of_three(self,a,b,c):\n",
    "        self.a=a\n",
    "        self.b=b\n",
    "        self.c=c\n",
    "    def show_sum_of_three(self):\n",
    "        return self.a+self.b+self.c"
   ]
  },
  {
   "cell_type": "code",
   "execution_count": 22,
   "id": "a97bf16b",
   "metadata": {},
   "outputs": [],
   "source": [
    "c1=Phone()"
   ]
  },
  {
   "cell_type": "code",
   "execution_count": 23,
   "id": "f05a0287",
   "metadata": {},
   "outputs": [],
   "source": [
    "c2=Phone2()"
   ]
  },
  {
   "cell_type": "code",
   "execution_count": 24,
   "id": "cba341c3",
   "metadata": {},
   "outputs": [],
   "source": [
    "c1.sum_of_two(10,20)"
   ]
  },
  {
   "cell_type": "code",
   "execution_count": 25,
   "id": "05448bde",
   "metadata": {},
   "outputs": [],
   "source": [
    "c1.sum_of_three(10,20,30)"
   ]
  },
  {
   "cell_type": "code",
   "execution_count": 26,
   "id": "4480a7d3",
   "metadata": {},
   "outputs": [],
   "source": [
    "c2.sum_of_two(40,50)"
   ]
  },
  {
   "cell_type": "code",
   "execution_count": 28,
   "id": "d47a4097",
   "metadata": {},
   "outputs": [],
   "source": [
    "c2.sum_of_three(10,30,40)"
   ]
  },
  {
   "cell_type": "code",
   "execution_count": 29,
   "id": "e6b2ca9f",
   "metadata": {},
   "outputs": [
    {
     "data": {
      "text/plain": [
       "30"
      ]
     },
     "execution_count": 29,
     "metadata": {},
     "output_type": "execute_result"
    }
   ],
   "source": [
    "c1.show_sum()"
   ]
  },
  {
   "cell_type": "code",
   "execution_count": 30,
   "id": "ae5bb038",
   "metadata": {},
   "outputs": [
    {
     "data": {
      "text/plain": [
       "60"
      ]
     },
     "execution_count": 30,
     "metadata": {},
     "output_type": "execute_result"
    }
   ],
   "source": [
    "c1.show_sum_of_three()"
   ]
  },
  {
   "cell_type": "code",
   "execution_count": 31,
   "id": "2f15f7fe",
   "metadata": {},
   "outputs": [
    {
     "data": {
      "text/plain": [
       "40"
      ]
     },
     "execution_count": 31,
     "metadata": {},
     "output_type": "execute_result"
    }
   ],
   "source": [
    "c2.show_sum()"
   ]
  },
  {
   "cell_type": "code",
   "execution_count": 32,
   "id": "a908c227",
   "metadata": {},
   "outputs": [
    {
     "data": {
      "text/plain": [
       "80"
      ]
     },
     "execution_count": 32,
     "metadata": {},
     "output_type": "execute_result"
    }
   ],
   "source": [
    "c2.show_sum_of_three()"
   ]
  },
  {
   "cell_type": "code",
   "execution_count": 33,
   "id": "4e9491f5",
   "metadata": {},
   "outputs": [],
   "source": [
    "#overridding"
   ]
  },
  {
   "cell_type": "code",
   "execution_count": null,
   "id": "9ee11886",
   "metadata": {},
   "outputs": [],
   "source": []
  }
 ],
 "metadata": {
  "kernelspec": {
   "display_name": "Python 3 (ipykernel)",
   "language": "python",
   "name": "python3"
  },
  "language_info": {
   "codemirror_mode": {
    "name": "ipython",
    "version": 3
   },
   "file_extension": ".py",
   "mimetype": "text/x-python",
   "name": "python",
   "nbconvert_exporter": "python",
   "pygments_lexer": "ipython3",
   "version": "3.10.4"
  }
 },
 "nbformat": 4,
 "nbformat_minor": 5
}
