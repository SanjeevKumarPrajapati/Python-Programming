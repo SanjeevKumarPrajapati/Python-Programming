{
 "cells": [
  {
   "cell_type": "markdown",
   "id": "d25757b6",
   "metadata": {},
   "source": [
    "# Tkinter"
   ]
  },
  {
   "cell_type": "code",
   "execution_count": 8,
   "id": "4128e313",
   "metadata": {},
   "outputs": [],
   "source": [
    "#small demo how to create GUI Application"
   ]
  },
  {
   "cell_type": "code",
   "execution_count": 10,
   "id": "fc09070d",
   "metadata": {},
   "outputs": [],
   "source": [
    "from tkinter import *\n",
    "a=Tk()\n",
    "a.mainloop()"
   ]
  },
  {
   "cell_type": "code",
   "execution_count": 4,
   "id": "3f88e9ec",
   "metadata": {},
   "outputs": [],
   "source": [
    "#title and icon"
   ]
  },
  {
   "cell_type": "code",
   "execution_count": 13,
   "id": "1d622bc8",
   "metadata": {},
   "outputs": [],
   "source": [
    "from tkinter import *\n",
    "a=Tk()\n",
    "a.title(\"First GUI Application\")\n",
    "a.iconbitmap(\"logo.ico\")\n",
    "a.mainloop()"
   ]
  },
  {
   "cell_type": "code",
   "execution_count": 14,
   "id": "389d8194",
   "metadata": {},
   "outputs": [],
   "source": [
    "#fix length\n",
    "from tkinter import *\n",
    "a=Tk()\n",
    "a.title(\"First GUI Application\")\n",
    "a.iconbitmap(\"logo.ico\")\n",
    "a.maxsize(200,500)\n",
    "a.minsize(100,400)\n",
    "a.mainloop()"
   ]
  },
  {
   "cell_type": "code",
   "execution_count": 17,
   "id": "bc4d1dc4",
   "metadata": {},
   "outputs": [],
   "source": [
    "#Add Label\n",
    "from tkinter import *\n",
    "a=Tk()\n",
    "a.title(\"First GUI Application\")\n",
    "a.iconbitmap(\"logo.ico\")\n",
    "a.maxsize(400,500)\n",
    "a.minsize(400,500)\n",
    "lb=Label(a,text=\"Hello World!\").pack()\n",
    "a.mainloop()"
   ]
  },
  {
   "cell_type": "code",
   "execution_count": 21,
   "id": "9f6cea0e",
   "metadata": {},
   "outputs": [],
   "source": [
    "#add color\n",
    "from tkinter import *\n",
    "a=Tk()\n",
    "a.title(\"First GUI Application\")\n",
    "a.iconbitmap(\"logo.ico\")\n",
    "a.maxsize(400,500)\n",
    "a.minsize(400,500)\n",
    "lb=Label(a,text=\"Hello World!\",fg=\"yellow\",bg=\"red\").pack()\n",
    "a.mainloop()"
   ]
  },
  {
   "cell_type": "code",
   "execution_count": 28,
   "id": "832954f5",
   "metadata": {},
   "outputs": [],
   "source": [
    "#how to add entry box\n",
    "from tkinter import *\n",
    "a=Tk()\n",
    "a.title(\"First GUI Application\")\n",
    "a.iconbitmap(\"logo.ico\")\n",
    "a.maxsize(400,500)\n",
    "a.minsize(400,500)\n",
    "e=Entry(a,fg=\"red\",bd=7).pack()\n",
    "a.mainloop()"
   ]
  },
  {
   "cell_type": "code",
   "execution_count": 29,
   "id": "238075ce",
   "metadata": {},
   "outputs": [],
   "source": [
    "#button\n",
    "from tkinter import *\n",
    "a=Tk()\n",
    "a.title(\"First GUI Application\")\n",
    "a.iconbitmap(\"logo.ico\")\n",
    "a.maxsize(400,500)\n",
    "a.minsize(400,500)\n",
    "e=Entry(a,fg=\"red\",bd=7).pack()\n",
    "bt=Button(a,text=\"Submit\",bg=\"green\").pack()\n",
    "a.mainloop()"
   ]
  },
  {
   "cell_type": "code",
   "execution_count": 34,
   "id": "b53dabce",
   "metadata": {},
   "outputs": [
    {
     "name": "stdout",
     "output_type": "stream",
     "text": [
      "hello world\n"
     ]
    }
   ],
   "source": [
    "#function\n",
    "from tkinter import *\n",
    "a=Tk()\n",
    "a.title(\"First GUI Application\")\n",
    "a.iconbitmap(\"logo.ico\")\n",
    "a.maxsize(400,500)\n",
    "a.minsize(400,500)\n",
    "def data():\n",
    "    ab=var.get()\n",
    "    print(ab)\n",
    "var=StringVar()\n",
    "e=Entry(a,fg=\"red\",bd=7,textvariable=var).pack()\n",
    "bt=Button(a,text=\"Submit\",bg=\"green\",command=data).pack()\n",
    "a.mainloop()"
   ]
  },
  {
   "cell_type": "code",
   "execution_count": 36,
   "id": "e93674c1",
   "metadata": {},
   "outputs": [],
   "source": [
    "#messagebox(showwarning)\n",
    "from tkinter import *\n",
    "from tkinter import messagebox as msg\n",
    "a=Tk()\n",
    "a.title(\"First GUI Application\")\n",
    "a.iconbitmap(\"logo.ico\")\n",
    "a.maxsize(400,500)\n",
    "a.minsize(400,500)\n",
    "def data():\n",
    "    msg.showwarning(\"Warning\",\"Empty String\")\n",
    "bt=Button(a,text=\"Submit\",bg=\"green\",command=data).pack()\n",
    "a.mainloop()"
   ]
  },
  {
   "cell_type": "code",
   "execution_count": 37,
   "id": "3a00ac4c",
   "metadata": {},
   "outputs": [],
   "source": [
    "#messagebox(showerror)\n",
    "from tkinter import *\n",
    "from tkinter import messagebox as msg\n",
    "a=Tk()\n",
    "a.title(\"First GUI Application\")\n",
    "a.iconbitmap(\"logo.ico\")\n",
    "a.maxsize(400,500)\n",
    "a.minsize(400,500)\n",
    "def data():\n",
    "    msg.showerror(\"Warning\",\"Empty String\")\n",
    "bt=Button(a,text=\"Submit\",bg=\"green\",command=data).pack()\n",
    "a.mainloop()"
   ]
  },
  {
   "cell_type": "code",
   "execution_count": 41,
   "id": "3bacfe73",
   "metadata": {},
   "outputs": [
    {
     "name": "stderr",
     "output_type": "stream",
     "text": [
      "Exception in Tkinter callback\n",
      "Traceback (most recent call last):\n",
      "  File \"C:\\Users\\Sanjeev Kumar\\AppData\\Local\\Programs\\Python\\Python310\\lib\\tkinter\\__init__.py\", line 1921, in __call__\n",
      "    return self.func(*args)\n",
      "  File \"C:\\Users\\Sanjeev Kumar\\AppData\\Local\\Temp\\ipykernel_11836\\2273118282.py\", line 12, in data\n",
      "    msg.CANCEL(\"Success\",\"Do you want to exit?\")\n",
      "TypeError: 'str' object is not callable\n"
     ]
    }
   ],
   "source": [
    "#messagebox(askyesorno)\n",
    "from tkinter import *\n",
    "from tkinter import messagebox as msg\n",
    "a=Tk()\n",
    "a.title(\"First GUI Application\")\n",
    "a.iconbitmap(\"logo.ico\")\n",
    "a.maxsize(400,500)\n",
    "a.minsize(400,500)\n",
    "def data():\n",
    "    msg.askyesno(\"Success\",\"Do you want to exit?\")\n",
    "    #msg.INFO(\"Do you want to exit?\")\n",
    "    #msg.CANCEL(\"Success\",\"Do you want to exit?\")\n",
    "    #msg.Message(\"Success\",\"Do you want to exit?\")\n",
    "    #msg.showinfo(\"Success\",\"Do you want to exit?\")\n",
    "bt=Button(a,text=\"Submit\",bg=\"green\",command=data).pack()\n",
    "a.mainloop()"
   ]
  },
  {
   "cell_type": "code",
   "execution_count": 49,
   "id": "657c9a10",
   "metadata": {},
   "outputs": [],
   "source": [
    "#menubar\n",
    "from tkinter import *\n",
    "a=Tk()\n",
    "a.title(\"First GUI Application\")\n",
    "a.iconbitmap(\"logo.ico\")\n",
    "a.maxsize(400,500)\n",
    "a.minsize(400,500)\n",
    "my_menu=Menu(a)\n",
    "a.config(menu=my_menu)\n",
    "file=Menu(my_menu)\n",
    "my_menu.add_cascade(label=\"File\",menu=file)\n",
    "file.add_cascade(label=\"New File\")\n",
    "file.add_cascade(label=\"Open\")\n",
    "file.add_cascade(label=\"Save\")\n",
    "file.add_cascade(label=\"Save As\")\n",
    "file.add_cascade(label=\"Exit\")\n",
    "\n",
    "edit_menu=Menu(my_menu)\n",
    "my_menu.add_cascade(label=\"Edit\",menu=edit_menu)\n",
    "edit_menu.add_cascade(label=\"Edit\")\n",
    "edit_menu.add_cascade(label=\"Undo\")\n",
    "edit_menu.add_cascade(label=\"Cut\")\n",
    "edit_menu.add_cascade(label=\"Replae\")\n",
    "a.mainloop()"
   ]
  },
  {
   "cell_type": "code",
   "execution_count": 2,
   "id": "b9424b12",
   "metadata": {},
   "outputs": [],
   "source": [
    "#checkbutton\n",
    "from tkinter import *\n",
    "a=Tk()\n",
    "a.title(\"First GUI Application\")\n",
    "a.iconbitmap(\"logo.ico\")\n",
    "a.maxsize(400,500)\n",
    "a.minsize(400,500)\n",
    "checkbtn1=IntVar()\n",
    "select=Checkbutton(a,text=\"Male\",variable=checkbtn1,onvalue=1,offvalue=0).pack()\n",
    "select=Checkbutton(a,text=\"Female\",variable=checkbtn1,onvalue=1,offvalue=0).pack()\n",
    "a.mainloop()"
   ]
  },
  {
   "cell_type": "code",
   "execution_count": 3,
   "id": "33ee5fd9",
   "metadata": {},
   "outputs": [],
   "source": [
    "#radiobutton\n",
    "from tkinter import *\n",
    "a=Tk()\n",
    "a.title(\"First GUI Application\")\n",
    "a.iconbitmap(\"logo.ico\")\n",
    "a.maxsize(400,500)\n",
    "a.minsize(400,500)\n",
    "btn1=IntVar()\n",
    "select=Radiobutton(a,text=\"Male\",value=1).pack()\n",
    "select=Radiobutton(a,text=\"Female\",value=0).pack()\n",
    "a.mainloop()"
   ]
  },
  {
   "cell_type": "code",
   "execution_count": null,
   "id": "4e2f5d00",
   "metadata": {},
   "outputs": [],
   "source": []
  }
 ],
 "metadata": {
  "kernelspec": {
   "display_name": "Python 3 (ipykernel)",
   "language": "python",
   "name": "python3"
  },
  "language_info": {
   "codemirror_mode": {
    "name": "ipython",
    "version": 3
   },
   "file_extension": ".py",
   "mimetype": "text/x-python",
   "name": "python",
   "nbconvert_exporter": "python",
   "pygments_lexer": "ipython3",
   "version": "3.10.4"
  }
 },
 "nbformat": 4,
 "nbformat_minor": 5
}
