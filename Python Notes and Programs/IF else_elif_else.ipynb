{
 "cells": [
  {
   "cell_type": "markdown",
   "metadata": {},
   "source": [
    "# Condition Statement"
   ]
  },
  {
   "cell_type": "markdown",
   "metadata": {},
   "source": [
    "# IF-Else"
   ]
  },
  {
   "cell_type": "code",
   "execution_count": 3,
   "metadata": {},
   "outputs": [],
   "source": [
    "a=0\n",
    "if a:\n",
    "    #statement\n",
    "    print(True)"
   ]
  },
  {
   "cell_type": "code",
   "execution_count": 4,
   "metadata": {},
   "outputs": [],
   "source": [
    "a=0"
   ]
  },
  {
   "cell_type": "code",
   "execution_count": 5,
   "metadata": {},
   "outputs": [
    {
     "name": "stdout",
     "output_type": "stream",
     "text": [
      "False\n"
     ]
    }
   ],
   "source": [
    "if a:\n",
    "    print(True)\n",
    "else:\n",
    "    print(False)"
   ]
  },
  {
   "cell_type": "code",
   "execution_count": 6,
   "metadata": {},
   "outputs": [
    {
     "name": "stdout",
     "output_type": "stream",
     "text": [
      "Hello\n"
     ]
    }
   ],
   "source": [
    "if True:\n",
    "    print(\"Hello\")"
   ]
  },
  {
   "cell_type": "code",
   "execution_count": 7,
   "metadata": {},
   "outputs": [],
   "source": [
    "#find the greatest number between two elements"
   ]
  },
  {
   "cell_type": "code",
   "execution_count": 8,
   "metadata": {},
   "outputs": [],
   "source": [
    "a=0\n",
    "b=10"
   ]
  },
  {
   "cell_type": "code",
   "execution_count": 9,
   "metadata": {},
   "outputs": [
    {
     "name": "stdout",
     "output_type": "stream",
     "text": [
      "B is Greater than A\n"
     ]
    }
   ],
   "source": [
    "if a>b:\n",
    "    print(\"A is greater than B\")\n",
    "else:\n",
    "    print(\"B is Greater than A\")"
   ]
  },
  {
   "cell_type": "markdown",
   "metadata": {},
   "source": [
    "# elif"
   ]
  },
  {
   "cell_type": "code",
   "execution_count": 14,
   "metadata": {},
   "outputs": [],
   "source": [
    "x,y,z=0,1,0"
   ]
  },
  {
   "cell_type": "code",
   "execution_count": 16,
   "metadata": {},
   "outputs": [
    {
     "name": "stdout",
     "output_type": "stream",
     "text": [
      "True\n",
      "1\n"
     ]
    }
   ],
   "source": [
    "if x:\n",
    "    print(True)\n",
    "    print(x)\n",
    "elif y:\n",
    "    print(True)\n",
    "    print(y)\n",
    "elif z:\n",
    "    print(True)\n",
    "    print(z)\n",
    "else:\n",
    "    print(False)"
   ]
  },
  {
   "cell_type": "code",
   "execution_count": 20,
   "metadata": {},
   "outputs": [],
   "source": [
    "if True:\n",
    "    if False:\n",
    "        print(\"Hello\")\n",
    "else:\n",
    "    print(False)"
   ]
  },
  {
   "cell_type": "code",
   "execution_count": 21,
   "metadata": {},
   "outputs": [],
   "source": [
    "#WAP to find the greatest number between 3 element"
   ]
  },
  {
   "cell_type": "code",
   "execution_count": 31,
   "metadata": {},
   "outputs": [
    {
     "name": "stdout",
     "output_type": "stream",
     "text": [
      "Enter First Number :- 15\n",
      "Enter Second Number:- 12\n",
      "Enter Third Number :- 10\n",
      "A is greater\n"
     ]
    }
   ],
   "source": [
    "a=int(input(\"Enter First Number :- \"))\n",
    "b=int(input(\"Enter Second Number:- \"))\n",
    "c=int(input(\"Enter Third Number :- \"))\n",
    "if a>b & a>c:\n",
    "    print(\"A is greater\")\n",
    "elif b>a & b>c:\n",
    "    print(\"B is Greater\")\n",
    "else :\n",
    "    print(\"C is Greater\")"
   ]
  },
  {
   "cell_type": "code",
   "execution_count": 32,
   "metadata": {},
   "outputs": [],
   "source": [
    "#WAP to find give number is positive or negative"
   ]
  },
  {
   "cell_type": "code",
   "execution_count": 33,
   "metadata": {},
   "outputs": [],
   "source": [
    "if(a==0):\n",
    "    print(0)"
   ]
  },
  {
   "cell_type": "code",
   "execution_count": 36,
   "metadata": {},
   "outputs": [
    {
     "name": "stdout",
     "output_type": "stream",
     "text": [
      "Eneter Your Number :- 0\n",
      "O is Neither Positive nore Negative\n"
     ]
    }
   ],
   "source": [
    "a=int(input(\"Eneter Your Number :- \"))\n",
    "if a>0:\n",
    "    print(\"Positive Number\")\n",
    "elif a<0:\n",
    "    print(\"Negative\")\n",
    "else:\n",
    "    print(\"O is Neither Positive nore Negative\")"
   ]
  },
  {
   "cell_type": "code",
   "execution_count": 37,
   "metadata": {},
   "outputs": [],
   "source": [
    "#WAP to find the year is a leap year or not"
   ]
  },
  {
   "cell_type": "code",
   "execution_count": 42,
   "metadata": {},
   "outputs": [
    {
     "name": "stdout",
     "output_type": "stream",
     "text": [
      "Eneter Your Number :- 2016\n",
      "Entered Year is a leap Year\n"
     ]
    }
   ],
   "source": [
    "yr=int(input(\"Eneter Your Number :- \"))\n",
    "if (yr%100!=0) & (yr%4==0) | (yr%400==0):\n",
    "    print(\"Entered Year is a leap Year\")\n",
    "else:\n",
    "    print(\"Not a Leap Year\")"
   ]
  },
  {
   "cell_type": "code",
   "execution_count": 43,
   "metadata": {},
   "outputs": [],
   "source": [
    "#WAP of grading system for fail,D Grade,C Grade,B Grade,A Grade and A+ Garde"
   ]
  },
  {
   "cell_type": "code",
   "execution_count": 63,
   "metadata": {},
   "outputs": [
    {
     "ename": "SyntaxError",
     "evalue": "invalid syntax (<ipython-input-63-9b042874ce40>, line 5)",
     "output_type": "error",
     "traceback": [
      "\u001b[1;36m  File \u001b[1;32m\"<ipython-input-63-9b042874ce40>\"\u001b[1;36m, line \u001b[1;32m5\u001b[0m\n\u001b[1;33m    elif a<55:\u001b[0m\n\u001b[1;37m    ^\u001b[0m\n\u001b[1;31mSyntaxError\u001b[0m\u001b[1;31m:\u001b[0m invalid syntax\n"
     ]
    }
   ],
   "source": [
    "a=int(input(\"Enter Your Percentage :- \"))\n",
    "if a<45:\n",
    "    print(\"Fail\")\n",
    "elif a>45:\n",
    "    elif a<55:\n",
    "        print(\"D Grade\")\n",
    "elif a>55:\n",
    "    elif a<65:\n",
    "        print(\"C Grade\")\n",
    "elif a>=65 & a<75:\n",
    "    print(\"B Grade\")\n",
    "elif a>=75 & a<85:\n",
    "    print(\"A Grade\")\n",
    "else:\n",
    "    print(\"A+ Garde\")"
   ]
  },
  {
   "cell_type": "code",
   "execution_count": null,
   "metadata": {},
   "outputs": [],
   "source": []
  },
  {
   "cell_type": "code",
   "execution_count": null,
   "metadata": {},
   "outputs": [],
   "source": []
  }
 ],
 "metadata": {
  "kernelspec": {
   "display_name": "Python 3",
   "language": "python",
   "name": "python3"
  },
  "language_info": {
   "codemirror_mode": {
    "name": "ipython",
    "version": 3
   },
   "file_extension": ".py",
   "mimetype": "text/x-python",
   "name": "python",
   "nbconvert_exporter": "python",
   "pygments_lexer": "ipython3",
   "version": "3.9.1"
  }
 },
 "nbformat": 4,
 "nbformat_minor": 4
}
