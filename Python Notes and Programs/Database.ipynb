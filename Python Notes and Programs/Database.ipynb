{
 "cells": [
  {
   "cell_type": "markdown",
   "id": "b78e3f7d",
   "metadata": {},
   "source": [
    "# Database"
   ]
  },
  {
   "cell_type": "code",
   "execution_count": 2,
   "id": "7fa653b5",
   "metadata": {},
   "outputs": [],
   "source": [
    "import sqlite3"
   ]
  },
  {
   "cell_type": "code",
   "execution_count": 3,
   "id": "2808597e",
   "metadata": {},
   "outputs": [],
   "source": [
    "ab=sqlite3.connect(\"python.db\")"
   ]
  },
  {
   "cell_type": "code",
   "execution_count": null,
   "id": "5ad38c26",
   "metadata": {},
   "outputs": [],
   "source": [
    "'''CREATE TABLE table_name (\n",
    "    column1 datatype,\n",
    "    column2 datatype,\n",
    "    column3 datatype,\n",
    "   ....\n",
    ");'''"
   ]
  },
  {
   "cell_type": "code",
   "execution_count": 4,
   "id": "cb5e6a7b",
   "metadata": {},
   "outputs": [
    {
     "data": {
      "text/plain": [
       "<sqlite3.Cursor at 0x25a710372c0>"
      ]
     },
     "execution_count": 4,
     "metadata": {},
     "output_type": "execute_result"
    }
   ],
   "source": [
    "ab.execute('''create table employee(emp_id int primary key,name text,age int,gender text)''')"
   ]
  },
  {
   "cell_type": "code",
   "execution_count": null,
   "id": "b7bc46f9",
   "metadata": {},
   "outputs": [],
   "source": [
    "'''INSERT INTO table_name (column1, column2, column3, ...)\n",
    "VALUES (value1, value2, value3, ...);'''"
   ]
  },
  {
   "cell_type": "code",
   "execution_count": 5,
   "id": "2aca357b",
   "metadata": {},
   "outputs": [
    {
     "data": {
      "text/plain": [
       "<sqlite3.Cursor at 0x25a710376c0>"
      ]
     },
     "execution_count": 5,
     "metadata": {},
     "output_type": "execute_result"
    }
   ],
   "source": [
    "ab.execute(\"insert into employee values(120,'Aman',24,'Male')\")"
   ]
  },
  {
   "cell_type": "code",
   "execution_count": 6,
   "id": "e27d98ab",
   "metadata": {},
   "outputs": [
    {
     "data": {
      "text/plain": [
       "<sqlite3.Cursor at 0x25a710378c0>"
      ]
     },
     "execution_count": 6,
     "metadata": {},
     "output_type": "execute_result"
    }
   ],
   "source": [
    "ab.execute(\"insert into employee values(121,'Rahul',23,'Male')\")"
   ]
  },
  {
   "cell_type": "code",
   "execution_count": 7,
   "id": "9ae01494",
   "metadata": {},
   "outputs": [
    {
     "data": {
      "text/plain": [
       "<sqlite3.Cursor at 0x25a71037ac0>"
      ]
     },
     "execution_count": 7,
     "metadata": {},
     "output_type": "execute_result"
    }
   ],
   "source": [
    "ab.execute(\"insert into employee values(122,'Ankita',22,'Female')\")"
   ]
  },
  {
   "cell_type": "code",
   "execution_count": 9,
   "id": "6dbbcaa6",
   "metadata": {},
   "outputs": [
    {
     "data": {
      "text/plain": [
       "<sqlite3.Cursor at 0x25a72bff240>"
      ]
     },
     "execution_count": 9,
     "metadata": {},
     "output_type": "execute_result"
    }
   ],
   "source": [
    "ab.execute(\"insert into employee values(123,'Rohit',29,'Male')\")"
   ]
  },
  {
   "cell_type": "code",
   "execution_count": 10,
   "id": "701933fb",
   "metadata": {},
   "outputs": [
    {
     "data": {
      "text/plain": [
       "<sqlite3.Cursor at 0x25a72bff440>"
      ]
     },
     "execution_count": 10,
     "metadata": {},
     "output_type": "execute_result"
    }
   ],
   "source": [
    "ab.execute(\"insert into employee values(124,'Riya',27,'Female')\")"
   ]
  },
  {
   "cell_type": "code",
   "execution_count": null,
   "id": "cb07b751",
   "metadata": {},
   "outputs": [],
   "source": [
    "'''SELECT column1, column2, ...\n",
    "FROM table_name;'''"
   ]
  },
  {
   "cell_type": "code",
   "execution_count": null,
   "id": "dcec8cf1",
   "metadata": {},
   "outputs": [],
   "source": [
    "'''SELECT * FROM table_name;'''"
   ]
  },
  {
   "cell_type": "code",
   "execution_count": 21,
   "id": "60b4e684",
   "metadata": {},
   "outputs": [],
   "source": [
    "a=ab.execute(\"select * from employee\")"
   ]
  },
  {
   "cell_type": "code",
   "execution_count": 22,
   "id": "60f03f88",
   "metadata": {},
   "outputs": [
    {
     "name": "stdout",
     "output_type": "stream",
     "text": [
      "(120, 'Aman', 24, 'Male')\n",
      "(121, 'Rahul', 23, 'Male')\n",
      "(122, 'Ankita', 34, 'Female')\n",
      "(123, 'Rohit', 29, 'Male')\n"
     ]
    }
   ],
   "source": [
    "for i in a:\n",
    "    print(i)"
   ]
  },
  {
   "cell_type": "code",
   "execution_count": 13,
   "id": "16e64503",
   "metadata": {},
   "outputs": [
    {
     "name": "stdout",
     "output_type": "stream",
     "text": [
      "Id :-  120\n",
      "Name :-  Aman\n",
      "Age :-  24\n",
      "Gender :-  Male\n",
      "Id :-  121\n",
      "Name :-  Rahul\n",
      "Age :-  23\n",
      "Gender :-  Male\n",
      "Id :-  122\n",
      "Name :-  Ankita\n",
      "Age :-  22\n",
      "Gender :-  Female\n",
      "Id :-  123\n",
      "Name :-  Rohit\n",
      "Age :-  29\n",
      "Gender :-  Male\n",
      "Id :-  124\n",
      "Name :-  Riya\n",
      "Age :-  27\n",
      "Gender :-  Female\n"
     ]
    }
   ],
   "source": [
    "for i in ab.execute(\"select * from employee\"):\n",
    "    print(\"Id :- \",i[0])\n",
    "    print(\"Name :- \",i[1])\n",
    "    print(\"Age :- \",i[2])\n",
    "    print(\"Gender :- \",i[3])"
   ]
  },
  {
   "cell_type": "code",
   "execution_count": 14,
   "id": "cd6cd3d4",
   "metadata": {},
   "outputs": [
    {
     "name": "stdout",
     "output_type": "stream",
     "text": [
      "(120, 'Aman', 24, 'Male')\n",
      "(121, 'Rahul', 23, 'Male')\n",
      "(122, 'Ankita', 22, 'Female')\n",
      "(123, 'Rohit', 29, 'Male')\n",
      "(124, 'Riya', 27, 'Female')\n"
     ]
    }
   ],
   "source": [
    "for i in ab.execute(\"select * from employee\"):\n",
    "    print(i)"
   ]
  },
  {
   "cell_type": "code",
   "execution_count": 15,
   "id": "bc9b4d9f",
   "metadata": {},
   "outputs": [],
   "source": [
    "#update value"
   ]
  },
  {
   "cell_type": "code",
   "execution_count": null,
   "id": "77368775",
   "metadata": {},
   "outputs": [],
   "source": [
    "'''UPDATE table_name\n",
    "SET column1 = value1, column2 = value2, ...\n",
    "WHERE condition;'''"
   ]
  },
  {
   "cell_type": "code",
   "execution_count": 16,
   "id": "3305a2bb",
   "metadata": {},
   "outputs": [
    {
     "data": {
      "text/plain": [
       "<sqlite3.Cursor at 0x25a72bffc40>"
      ]
     },
     "execution_count": 16,
     "metadata": {},
     "output_type": "execute_result"
    }
   ],
   "source": [
    "ab.execute(\"update employee set age=34 where emp_id=122\")"
   ]
  },
  {
   "cell_type": "code",
   "execution_count": 17,
   "id": "6e75b703",
   "metadata": {},
   "outputs": [
    {
     "name": "stdout",
     "output_type": "stream",
     "text": [
      "(120, 'Aman', 24, 'Male')\n",
      "(121, 'Rahul', 23, 'Male')\n",
      "(122, 'Ankita', 34, 'Female')\n",
      "(123, 'Rohit', 29, 'Male')\n",
      "(124, 'Riya', 27, 'Female')\n"
     ]
    }
   ],
   "source": [
    "for i in ab.execute(\"select * from employee\"):\n",
    "    print(i)"
   ]
  },
  {
   "cell_type": "code",
   "execution_count": 18,
   "id": "4b580379",
   "metadata": {},
   "outputs": [],
   "source": [
    "#delete"
   ]
  },
  {
   "cell_type": "code",
   "execution_count": null,
   "id": "f67e25ad",
   "metadata": {},
   "outputs": [],
   "source": [
    "'''DELETE FROM table_name WHERE condition;'''"
   ]
  },
  {
   "cell_type": "code",
   "execution_count": 19,
   "id": "3b9450e8",
   "metadata": {},
   "outputs": [
    {
     "data": {
      "text/plain": [
       "<sqlite3.Cursor at 0x25a72bffdc0>"
      ]
     },
     "execution_count": 19,
     "metadata": {},
     "output_type": "execute_result"
    }
   ],
   "source": [
    "ab.execute(\"delete from employee where emp_id=124\")"
   ]
  },
  {
   "cell_type": "code",
   "execution_count": 20,
   "id": "8f864b03",
   "metadata": {},
   "outputs": [
    {
     "name": "stdout",
     "output_type": "stream",
     "text": [
      "(120, 'Aman', 24, 'Male')\n",
      "(121, 'Rahul', 23, 'Male')\n",
      "(122, 'Ankita', 34, 'Female')\n",
      "(123, 'Rohit', 29, 'Male')\n"
     ]
    }
   ],
   "source": [
    "for i in ab.execute(\"select * from employee\"):\n",
    "    print(i)"
   ]
  },
  {
   "cell_type": "code",
   "execution_count": null,
   "id": "c38635bf",
   "metadata": {},
   "outputs": [],
   "source": [
    "ab.commit()"
   ]
  }
 ],
 "metadata": {
  "kernelspec": {
   "display_name": "Python 3 (ipykernel)",
   "language": "python",
   "name": "python3"
  },
  "language_info": {
   "codemirror_mode": {
    "name": "ipython",
    "version": 3
   },
   "file_extension": ".py",
   "mimetype": "text/x-python",
   "name": "python",
   "nbconvert_exporter": "python",
   "pygments_lexer": "ipython3",
   "version": "3.10.4"
  }
 },
 "nbformat": 4,
 "nbformat_minor": 5
}
