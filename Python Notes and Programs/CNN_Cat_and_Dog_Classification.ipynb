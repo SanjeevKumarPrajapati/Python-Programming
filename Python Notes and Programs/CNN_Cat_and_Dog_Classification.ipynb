{
 "cells": [
  {
   "cell_type": "code",
   "execution_count": 1,
   "id": "0bec9af3",
   "metadata": {},
   "outputs": [],
   "source": [
    "import tensorflow"
   ]
  },
  {
   "cell_type": "code",
   "execution_count": 2,
   "id": "b3ccb961",
   "metadata": {},
   "outputs": [],
   "source": [
    "from keras.layers import Dense,Conv2D,MaxPooling2D,Flatten"
   ]
  },
  {
   "cell_type": "code",
   "execution_count": 3,
   "id": "aab1609a",
   "metadata": {},
   "outputs": [],
   "source": [
    "from keras.models import Sequential"
   ]
  },
  {
   "cell_type": "code",
   "execution_count": 4,
   "id": "1670c533",
   "metadata": {},
   "outputs": [],
   "source": [
    "from keras.preprocessing.image import ImageDataGenerator"
   ]
  },
  {
   "cell_type": "code",
   "execution_count": 5,
   "id": "0bfbef63",
   "metadata": {},
   "outputs": [],
   "source": [
    "cnn=Sequential()"
   ]
  },
  {
   "cell_type": "code",
   "execution_count": 6,
   "id": "da56fc9e",
   "metadata": {},
   "outputs": [],
   "source": [
    "cnn.add(Conv2D(32,(3,3),input_shape=(64,64,3),activation='relu'))\n",
    "cnn.add(MaxPooling2D(pool_size=(2,2)))\n",
    "cnn.add(Conv2D(16,(3,3),activation='relu'))\n",
    "cnn.add(MaxPooling2D(pool_size=(2,2)))\n",
    "cnn.add(Flatten())"
   ]
  },
  {
   "cell_type": "code",
   "execution_count": 7,
   "id": "4dc901ae",
   "metadata": {},
   "outputs": [],
   "source": [
    "cnn.add(Dense(64,activation='relu'))\n",
    "cnn.add(Dense(32,activation='relu'))\n",
    "cnn.add(Dense(16,activation='relu'))\n",
    "cnn.add(Dense(8,activation='relu'))\n",
    "cnn.add(Dense(4,activation='relu'))\n",
    "cnn.add(Dense(2,activation='relu'))\n",
    "cnn.add(Dense(1,activation='sigmoid'))"
   ]
  },
  {
   "cell_type": "code",
   "execution_count": 8,
   "id": "c9524a5b",
   "metadata": {},
   "outputs": [],
   "source": [
    "cnn.compile(loss=\"binary_crossentropy\",optimizer=\"adam\")"
   ]
  },
  {
   "cell_type": "code",
   "execution_count": 10,
   "id": "c4e3c22e",
   "metadata": {
    "collapsed": true
   },
   "outputs": [
    {
     "name": "stdout",
     "output_type": "stream",
     "text": [
      "Found 8000 images belonging to 2 classes.\n",
      "Found 2000 images belonging to 2 classes.\n"
     ]
    },
    {
     "name": "stderr",
     "output_type": "stream",
     "text": [
      "C:\\Users\\Sanjeev Kumar\\AppData\\Local\\Temp\\ipykernel_8308\\700364057.py:21: UserWarning: `Model.fit_generator` is deprecated and will be removed in a future version. Please use `Model.fit`, which supports generators.\n",
      "  cnn.fit_generator(\n"
     ]
    },
    {
     "name": "stdout",
     "output_type": "stream",
     "text": [
      "Epoch 1/50\n",
      "200/200 [==============================] - 128s 639ms/step - loss: 0.6932 - val_loss: 0.6932\n",
      "Epoch 2/50\n",
      "200/200 [==============================] - 104s 521ms/step - loss: 0.6932 - val_loss: 0.6931\n",
      "Epoch 3/50\n",
      "200/200 [==============================] - 118s 591ms/step - loss: 0.6932 - val_loss: 0.6931\n",
      "Epoch 4/50\n",
      "200/200 [==============================] - 114s 567ms/step - loss: 0.6932 - val_loss: 0.6931\n",
      "Epoch 5/50\n",
      "200/200 [==============================] - 102s 508ms/step - loss: 0.6932 - val_loss: 0.6931\n",
      "Epoch 6/50\n",
      "200/200 [==============================] - 97s 484ms/step - loss: 0.6932 - val_loss: 0.6931\n",
      "Epoch 7/50\n",
      "200/200 [==============================] - 86s 429ms/step - loss: 0.6932 - val_loss: 0.6932\n",
      "Epoch 8/50\n",
      "200/200 [==============================] - 43s 216ms/step - loss: 0.6932 - val_loss: 0.6931\n",
      "Epoch 9/50\n",
      "200/200 [==============================] - 37s 185ms/step - loss: 0.6932 - val_loss: 0.6931\n",
      "Epoch 10/50\n",
      "200/200 [==============================] - 33s 163ms/step - loss: 0.6932 - val_loss: 0.6931\n",
      "Epoch 11/50\n",
      "200/200 [==============================] - 30s 150ms/step - loss: 0.6932 - val_loss: 0.6931\n",
      "Epoch 12/50\n",
      "200/200 [==============================] - 46s 232ms/step - loss: 0.6932 - val_loss: 0.6931\n",
      "Epoch 13/50\n",
      "200/200 [==============================] - 78s 389ms/step - loss: 0.6932 - val_loss: 0.6932\n",
      "Epoch 14/50\n",
      "200/200 [==============================] - 102s 510ms/step - loss: 0.6932 - val_loss: 0.6931\n",
      "Epoch 15/50\n",
      "200/200 [==============================] - 98s 492ms/step - loss: 0.6932 - val_loss: 0.6931\n",
      "Epoch 16/50\n",
      "200/200 [==============================] - 100s 497ms/step - loss: 0.6932 - val_loss: 0.6932\n",
      "Epoch 17/50\n",
      "200/200 [==============================] - 46s 231ms/step - loss: 0.6932 - val_loss: 0.6932\n",
      "Epoch 18/50\n",
      "200/200 [==============================] - 33s 164ms/step - loss: 0.6932 - val_loss: 0.6931\n",
      "Epoch 19/50\n",
      "200/200 [==============================] - 29s 143ms/step - loss: 0.6932 - val_loss: 0.6931\n",
      "Epoch 20/50\n",
      "200/200 [==============================] - 64s 321ms/step - loss: 0.6932 - val_loss: 0.6932\n",
      "Epoch 21/50\n",
      "200/200 [==============================] - 47s 233ms/step - loss: 0.6932 - val_loss: 0.6932\n",
      "Epoch 22/50\n",
      "200/200 [==============================] - 33s 167ms/step - loss: 0.6932 - val_loss: 0.6932\n",
      "Epoch 23/50\n",
      "200/200 [==============================] - 33s 163ms/step - loss: 0.6932 - val_loss: 0.6932\n",
      "Epoch 24/50\n",
      "200/200 [==============================] - 31s 154ms/step - loss: 0.6932 - val_loss: 0.6931\n",
      "Epoch 25/50\n",
      "200/200 [==============================] - 30s 149ms/step - loss: 0.6932 - val_loss: 0.6932\n",
      "Epoch 26/50\n",
      "200/200 [==============================] - 28s 142ms/step - loss: 0.6932 - val_loss: 0.6932\n",
      "Epoch 27/50\n",
      "200/200 [==============================] - 32s 159ms/step - loss: 0.6932 - val_loss: 0.6931\n",
      "Epoch 28/50\n",
      "200/200 [==============================] - 33s 165ms/step - loss: 0.6932 - val_loss: 0.6931\n",
      "Epoch 29/50\n",
      "200/200 [==============================] - 39s 197ms/step - loss: 0.6932 - val_loss: 0.6931\n",
      "Epoch 30/50\n",
      "200/200 [==============================] - 35s 173ms/step - loss: 0.6932 - val_loss: 0.6932\n",
      "Epoch 31/50\n",
      "200/200 [==============================] - 30s 151ms/step - loss: 0.6932 - val_loss: 0.6931\n",
      "Epoch 32/50\n",
      "200/200 [==============================] - 30s 152ms/step - loss: 0.6932 - val_loss: 0.6931\n",
      "Epoch 33/50\n",
      "200/200 [==============================] - 28s 141ms/step - loss: 0.6932 - val_loss: 0.6931\n",
      "Epoch 34/50\n",
      "200/200 [==============================] - 28s 142ms/step - loss: 0.6932 - val_loss: 0.6931\n",
      "Epoch 35/50\n",
      "200/200 [==============================] - 30s 152ms/step - loss: 0.6932 - val_loss: 0.6931\n",
      "Epoch 36/50\n",
      "200/200 [==============================] - 30s 152ms/step - loss: 0.6932 - val_loss: 0.6932\n",
      "Epoch 37/50\n",
      "200/200 [==============================] - 42s 212ms/step - loss: 0.6932 - val_loss: 0.6931\n",
      "Epoch 38/50\n",
      "200/200 [==============================] - 47s 233ms/step - loss: 0.6932 - val_loss: 0.6931\n",
      "Epoch 39/50\n",
      "200/200 [==============================] - 36s 181ms/step - loss: 0.6932 - val_loss: 0.6932\n",
      "Epoch 40/50\n",
      "200/200 [==============================] - 104s 523ms/step - loss: 0.6932 - val_loss: 0.6931\n",
      "Epoch 41/50\n",
      "200/200 [==============================] - 118s 590ms/step - loss: 0.6932 - val_loss: 0.6931\n",
      "Epoch 42/50\n",
      "200/200 [==============================] - 112s 562ms/step - loss: 0.6932 - val_loss: 0.6931\n",
      "Epoch 43/50\n",
      "200/200 [==============================] - 46s 230ms/step - loss: 0.6932 - val_loss: 0.6931\n",
      "Epoch 44/50\n",
      "200/200 [==============================] - 38s 192ms/step - loss: 0.6932 - val_loss: 0.6932\n",
      "Epoch 45/50\n",
      "200/200 [==============================] - 34s 168ms/step - loss: 0.6932 - val_loss: 0.6932\n",
      "Epoch 46/50\n",
      "200/200 [==============================] - 30s 148ms/step - loss: 0.6932 - val_loss: 0.6931\n",
      "Epoch 47/50\n",
      "200/200 [==============================] - 32s 159ms/step - loss: 0.6932 - val_loss: 0.6931\n",
      "Epoch 48/50\n",
      "200/200 [==============================] - 43s 214ms/step - loss: 0.6932 - val_loss: 0.6932\n",
      "Epoch 49/50\n",
      "200/200 [==============================] - 36s 179ms/step - loss: 0.6932 - val_loss: 0.6932\n",
      "Epoch 50/50\n",
      "200/200 [==============================] - 32s 161ms/step - loss: 0.6932 - val_loss: 0.6931\n"
     ]
    },
    {
     "data": {
      "text/plain": [
       "<keras.callbacks.History at 0x1f3df3f3550>"
      ]
     },
     "execution_count": 10,
     "metadata": {},
     "output_type": "execute_result"
    }
   ],
   "source": [
    "train_datagen = ImageDataGenerator(\n",
    "        rescale=1./255,\n",
    "        shear_range=0.2,\n",
    "        zoom_range=0.2,\n",
    "        horizontal_flip=True)\n",
    "\n",
    "test_datagen = ImageDataGenerator(rescale=1./255)\n",
    "\n",
    "train_generator = train_datagen.flow_from_directory(\n",
    "        r\"E:\\Python DataSets\\Cat_and_Dog_Dataset\\train_set\",\n",
    "        target_size=(64, 64),\n",
    "        batch_size=32,\n",
    "        class_mode='binary')\n",
    "\n",
    "test_generator = test_datagen.flow_from_directory(\n",
    "        r\"E:\\Python DataSets\\Cat_and_Dog_Dataset\\test_set\",\n",
    "        target_size=(64, 64),\n",
    "        batch_size=32,\n",
    "        class_mode='binary')\n",
    "\n",
    "cnn.fit_generator(\n",
    "        train_generator,\n",
    "        steps_per_epoch=200,\n",
    "        epochs=50,\n",
    "        validation_data=test_generator\n",
    ")"
   ]
  },
  {
   "cell_type": "code",
   "execution_count": 11,
   "id": "afcd624a",
   "metadata": {},
   "outputs": [],
   "source": [
    "from tensorflow.keras.utils import load_img,img_to_array"
   ]
  },
  {
   "cell_type": "code",
   "execution_count": 38,
   "id": "2ac3643e",
   "metadata": {},
   "outputs": [],
   "source": [
    "img=load_img(r\"E:\\Python DataSets\\Cat_and_Dog_Dataset\\test_set\\cats\\cat.4083.jpg\",target_size=(64,64))"
   ]
  },
  {
   "cell_type": "code",
   "execution_count": 39,
   "id": "8cd09f68",
   "metadata": {},
   "outputs": [],
   "source": [
    "img=img_to_array(img)"
   ]
  },
  {
   "cell_type": "code",
   "execution_count": 40,
   "id": "86d0f6f9",
   "metadata": {},
   "outputs": [],
   "source": [
    "import numpy as np"
   ]
  },
  {
   "cell_type": "code",
   "execution_count": 41,
   "id": "910607d2",
   "metadata": {},
   "outputs": [],
   "source": [
    "img=np.expand_dims(img,axis=0)"
   ]
  },
  {
   "cell_type": "code",
   "execution_count": 42,
   "id": "0bbe6393",
   "metadata": {},
   "outputs": [
    {
     "name": "stdout",
     "output_type": "stream",
     "text": [
      "1/1 [==============================] - 0s 23ms/step\n"
     ]
    },
    {
     "data": {
      "text/plain": [
       "array([[0.4998071]], dtype=float32)"
      ]
     },
     "execution_count": 42,
     "metadata": {},
     "output_type": "execute_result"
    }
   ],
   "source": [
    "p=cnn.predict(img)\n",
    "p"
   ]
  },
  {
   "cell_type": "code",
   "execution_count": 43,
   "id": "74e9688b",
   "metadata": {},
   "outputs": [
    {
     "name": "stdout",
     "output_type": "stream",
     "text": [
      "Cat\n"
     ]
    }
   ],
   "source": [
    "if p[0][0]<0.5:\n",
    "    print(\"Cat\")\n",
    "else:\n",
    "    print(\"Dog\")"
   ]
  },
  {
   "cell_type": "code",
   "execution_count": null,
   "id": "6f946b73",
   "metadata": {},
   "outputs": [],
   "source": []
  },
  {
   "cell_type": "code",
   "execution_count": null,
   "id": "06e22f24",
   "metadata": {},
   "outputs": [],
   "source": []
  }
 ],
 "metadata": {
  "kernelspec": {
   "display_name": "Python 3 (ipykernel)",
   "language": "python",
   "name": "python3"
  },
  "language_info": {
   "codemirror_mode": {
    "name": "ipython",
    "version": 3
   },
   "file_extension": ".py",
   "mimetype": "text/x-python",
   "name": "python",
   "nbconvert_exporter": "python",
   "pygments_lexer": "ipython3",
   "version": "3.10.4"
  }
 },
 "nbformat": 4,
 "nbformat_minor": 5
}
