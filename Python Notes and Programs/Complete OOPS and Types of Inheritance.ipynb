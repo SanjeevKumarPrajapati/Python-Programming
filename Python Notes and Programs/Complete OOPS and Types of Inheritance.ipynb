{
 "cells": [
  {
   "cell_type": "code",
   "execution_count": 1,
   "id": "8d7ce23f",
   "metadata": {},
   "outputs": [],
   "source": [
    "class Phone:\n",
    "    def make_call(self):\n",
    "        print(\"Making a call\")\n",
    "    def make_game(self):\n",
    "        print(\"Playing Game\")\n",
    "    #def hello(self,a,b):\n",
    "        #return self.a+self.b"
   ]
  },
  {
   "cell_type": "code",
   "execution_count": 2,
   "id": "902288e1",
   "metadata": {},
   "outputs": [],
   "source": [
    "a=Phone()"
   ]
  },
  {
   "cell_type": "code",
   "execution_count": 4,
   "id": "4f5903a6",
   "metadata": {},
   "outputs": [
    {
     "name": "stdout",
     "output_type": "stream",
     "text": [
      "Making a call\n"
     ]
    }
   ],
   "source": [
    "a.make_call()"
   ]
  },
  {
   "cell_type": "code",
   "execution_count": 5,
   "id": "b0b3bcd3",
   "metadata": {},
   "outputs": [
    {
     "name": "stdout",
     "output_type": "stream",
     "text": [
      "Playing Game\n"
     ]
    }
   ],
   "source": [
    "a.make_game()"
   ]
  },
  {
   "cell_type": "code",
   "execution_count": 14,
   "id": "e9ef4059",
   "metadata": {},
   "outputs": [],
   "source": [
    "class Phone:\n",
    "    def set_color(self,color):\n",
    "        self.color=color\n",
    "    def set_cost(self,cost):\n",
    "        self.cost=cost\n",
    "    def show_color(self):\n",
    "        return self.color\n",
    "    def show_cost(self):\n",
    "        return self.cost\n",
    "    def make_call(self):\n",
    "        print(\"Making a call\")\n",
    "    def make_game(self):\n",
    "        print(\"Playing Game\")"
   ]
  },
  {
   "cell_type": "code",
   "execution_count": 15,
   "id": "42b50089",
   "metadata": {},
   "outputs": [],
   "source": [
    "ab=Phone()"
   ]
  },
  {
   "cell_type": "code",
   "execution_count": 16,
   "id": "a6103a7f",
   "metadata": {},
   "outputs": [],
   "source": [
    "ab.set_color(\"red\")"
   ]
  },
  {
   "cell_type": "code",
   "execution_count": 17,
   "id": "496a5f6b",
   "metadata": {},
   "outputs": [],
   "source": [
    "ab.set_cost(1000)"
   ]
  },
  {
   "cell_type": "code",
   "execution_count": 18,
   "id": "f99fbbc2",
   "metadata": {},
   "outputs": [
    {
     "data": {
      "text/plain": [
       "'red'"
      ]
     },
     "execution_count": 18,
     "metadata": {},
     "output_type": "execute_result"
    }
   ],
   "source": [
    "ab.show_color()"
   ]
  },
  {
   "cell_type": "code",
   "execution_count": 19,
   "id": "7aeb5d80",
   "metadata": {},
   "outputs": [
    {
     "data": {
      "text/plain": [
       "1000"
      ]
     },
     "execution_count": 19,
     "metadata": {},
     "output_type": "execute_result"
    }
   ],
   "source": [
    "ab.show_cost()"
   ]
  },
  {
   "cell_type": "code",
   "execution_count": 20,
   "id": "73adeeab",
   "metadata": {},
   "outputs": [
    {
     "name": "stdout",
     "output_type": "stream",
     "text": [
      "Making a call\n"
     ]
    }
   ],
   "source": [
    "ab.make_call()"
   ]
  },
  {
   "cell_type": "code",
   "execution_count": 21,
   "id": "edb6ff5c",
   "metadata": {},
   "outputs": [
    {
     "name": "stdout",
     "output_type": "stream",
     "text": [
      "Playing Game\n"
     ]
    }
   ],
   "source": [
    "ab.make_game()"
   ]
  },
  {
   "cell_type": "code",
   "execution_count": 25,
   "id": "64eadba2",
   "metadata": {},
   "outputs": [],
   "source": [
    "class Employee:\n",
    "    def __init__(self,name,age,salary,gender):\n",
    "        self.name=name\n",
    "        self.age=age\n",
    "        self.salary=salary\n",
    "        self.gender=gender\n",
    "    def employee_details(self):\n",
    "        print(\"Employee Name :- \",self.name)\n",
    "        print(\"Employee Age :- \",self.age)\n",
    "        print(\"Employee Salary :- \",self.salary)\n",
    "        print(\"Employee Gender :- \",self.gender)"
   ]
  },
  {
   "cell_type": "code",
   "execution_count": 26,
   "id": "99b80af6",
   "metadata": {},
   "outputs": [],
   "source": [
    "cd=Employee(\"Rohit\",56,100000,\"Male\")"
   ]
  },
  {
   "cell_type": "code",
   "execution_count": 27,
   "id": "0e148511",
   "metadata": {},
   "outputs": [
    {
     "name": "stdout",
     "output_type": "stream",
     "text": [
      "Employee Name :-  Rohit\n",
      "Employee Age :-  56\n",
      "Employee Salary :-  100000\n",
      "Employee Gender :-  Male\n"
     ]
    }
   ],
   "source": [
    "cd.employee_details()"
   ]
  },
  {
   "cell_type": "markdown",
   "id": "52b34e38",
   "metadata": {},
   "source": [
    "# Inheritance"
   ]
  },
  {
   "cell_type": "markdown",
   "id": "4d544f99",
   "metadata": {},
   "source": [
    "# Single Inheritance"
   ]
  },
  {
   "cell_type": "code",
   "execution_count": 28,
   "id": "e449aa8f",
   "metadata": {},
   "outputs": [],
   "source": [
    "class Vehicle:\n",
    "    def __init__(self,mileage,cost):\n",
    "        self.mileage=mileage\n",
    "        self.cost=cost\n",
    "    def show_details(self):\n",
    "        print(\"I am a vehicle\")\n",
    "        print(\"Mileage of vehicle is :- \",self.mileage)\n",
    "        print(\"Cost of Vehicle is :- \",self.cost)"
   ]
  },
  {
   "cell_type": "code",
   "execution_count": 31,
   "id": "1cf1d97b",
   "metadata": {},
   "outputs": [],
   "source": [
    "v1=Vehicle(60,70)"
   ]
  },
  {
   "cell_type": "code",
   "execution_count": 32,
   "id": "cdca8da8",
   "metadata": {},
   "outputs": [
    {
     "name": "stdout",
     "output_type": "stream",
     "text": [
      "I am a vehicle\n",
      "Mileage of vehicle is :-  60\n",
      "Cost of Vehicle is :-  70\n"
     ]
    }
   ],
   "source": [
    "v1.show_details()"
   ]
  },
  {
   "cell_type": "code",
   "execution_count": 33,
   "id": "680edbe2",
   "metadata": {},
   "outputs": [],
   "source": [
    "class Car(Vehicle):\n",
    "    def show_car(self):\n",
    "        print(\"I am a car\")"
   ]
  },
  {
   "cell_type": "code",
   "execution_count": 35,
   "id": "a417b322",
   "metadata": {},
   "outputs": [],
   "source": [
    "v2=Car(80,1000)"
   ]
  },
  {
   "cell_type": "code",
   "execution_count": 37,
   "id": "63ef291f",
   "metadata": {},
   "outputs": [
    {
     "name": "stdout",
     "output_type": "stream",
     "text": [
      "I am a vehicle\n",
      "Mileage of vehicle is :-  80\n",
      "Cost of Vehicle is :-  1000\n"
     ]
    }
   ],
   "source": [
    "v2.show_details()"
   ]
  },
  {
   "cell_type": "code",
   "execution_count": 38,
   "id": "fde6b1ec",
   "metadata": {},
   "outputs": [
    {
     "name": "stdout",
     "output_type": "stream",
     "text": [
      "I am a car\n"
     ]
    }
   ],
   "source": [
    "v2.show_car()"
   ]
  },
  {
   "cell_type": "markdown",
   "id": "dcde987f",
   "metadata": {},
   "source": [
    "# Multiple Inheritance"
   ]
  },
  {
   "cell_type": "code",
   "execution_count": 1,
   "id": "d44332da",
   "metadata": {},
   "outputs": [],
   "source": [
    "class Parent1:\n",
    "    def assign_string_one(self,str1):\n",
    "        self.str1=str1\n",
    "    def show_string_one(self):\n",
    "        return self.str1\n",
    "class Parent2:\n",
    "    def assign_string_two(self,str2):\n",
    "        self.str2=str2\n",
    "    def show_string_two(self):\n",
    "        return self.str2\n",
    "class Drived(Parent1,Parent2):\n",
    "    def assign_string_three(self,str3):\n",
    "        self.str3=str3\n",
    "    def show_string_three(self):\n",
    "        return self.str3"
   ]
  },
  {
   "cell_type": "code",
   "execution_count": 3,
   "id": "df8043bc",
   "metadata": {},
   "outputs": [],
   "source": [
    "d1=Drived()"
   ]
  },
  {
   "cell_type": "code",
   "execution_count": 4,
   "id": "b2295e82",
   "metadata": {},
   "outputs": [],
   "source": [
    "d1.assign_string_one(\"str1\")\n",
    "d1.assign_string_three(\"str2\")\n",
    "d1.assign_string_two(\"str2\")"
   ]
  },
  {
   "cell_type": "code",
   "execution_count": 6,
   "id": "202df4f9",
   "metadata": {},
   "outputs": [
    {
     "data": {
      "text/plain": [
       "'str1'"
      ]
     },
     "execution_count": 6,
     "metadata": {},
     "output_type": "execute_result"
    }
   ],
   "source": [
    "d1.show_string_one()"
   ]
  },
  {
   "cell_type": "code",
   "execution_count": 7,
   "id": "20c92bdd",
   "metadata": {},
   "outputs": [
    {
     "data": {
      "text/plain": [
       "'str2'"
      ]
     },
     "execution_count": 7,
     "metadata": {},
     "output_type": "execute_result"
    }
   ],
   "source": [
    "d1.show_string_two()"
   ]
  },
  {
   "cell_type": "code",
   "execution_count": 8,
   "id": "c29bf30c",
   "metadata": {},
   "outputs": [
    {
     "data": {
      "text/plain": [
       "'str2'"
      ]
     },
     "execution_count": 8,
     "metadata": {},
     "output_type": "execute_result"
    }
   ],
   "source": [
    "d1.show_string_three()\n"
   ]
  },
  {
   "cell_type": "markdown",
   "id": "21fc04f1",
   "metadata": {},
   "source": [
    "# Multi-Level Inheritance"
   ]
  },
  {
   "cell_type": "code",
   "execution_count": 9,
   "id": "93769aa4",
   "metadata": {},
   "outputs": [],
   "source": [
    "class Parent1:\n",
    "    def assign_name(self,name):\n",
    "        self.name=name\n",
    "    def show_name(self):\n",
    "        return self.name\n",
    "class Child1(Parent1):\n",
    "    def assign_age(self,age):\n",
    "        self.age=age\n",
    "    def show_age(self):\n",
    "        return self.age\n",
    "class Child2(Child1):\n",
    "    def assign_gender(self,gender):\n",
    "        self.gender=gender\n",
    "    def show_gender(self):\n",
    "        return self.gender\n",
    "class Child3(Child2):\n",
    "    def assign_salary(self,salary):\n",
    "        self.salary=salary\n",
    "    def show_salary(self):\n",
    "        return self.salary"
   ]
  },
  {
   "cell_type": "code",
   "execution_count": 10,
   "id": "52b32e6d",
   "metadata": {},
   "outputs": [],
   "source": [
    "c3=Child3()"
   ]
  },
  {
   "cell_type": "code",
   "execution_count": 11,
   "id": "3d863548",
   "metadata": {},
   "outputs": [],
   "source": [
    "c3.assign_age(34)\n",
    "c3.assign_gender(\"Male\")\n",
    "c3.assign_name(\"Sanjeev\")\n",
    "c3.assign_salary(50000)"
   ]
  },
  {
   "cell_type": "code",
   "execution_count": 13,
   "id": "50ecfc73",
   "metadata": {},
   "outputs": [
    {
     "data": {
      "text/plain": [
       "34"
      ]
     },
     "execution_count": 13,
     "metadata": {},
     "output_type": "execute_result"
    }
   ],
   "source": [
    "c3.show_age()"
   ]
  },
  {
   "cell_type": "code",
   "execution_count": 14,
   "id": "2c3de6a4",
   "metadata": {},
   "outputs": [
    {
     "data": {
      "text/plain": [
       "'Male'"
      ]
     },
     "execution_count": 14,
     "metadata": {},
     "output_type": "execute_result"
    }
   ],
   "source": [
    "c3.show_gender()"
   ]
  },
  {
   "cell_type": "code",
   "execution_count": 15,
   "id": "193a286b",
   "metadata": {},
   "outputs": [
    {
     "data": {
      "text/plain": [
       "'Sanjeev'"
      ]
     },
     "execution_count": 15,
     "metadata": {},
     "output_type": "execute_result"
    }
   ],
   "source": [
    "c3.show_name()"
   ]
  },
  {
   "cell_type": "code",
   "execution_count": 16,
   "id": "2743ed0d",
   "metadata": {},
   "outputs": [
    {
     "data": {
      "text/plain": [
       "50000"
      ]
     },
     "execution_count": 16,
     "metadata": {},
     "output_type": "execute_result"
    }
   ],
   "source": [
    "c3.show_salary()"
   ]
  },
  {
   "cell_type": "markdown",
   "id": "84e969f4",
   "metadata": {},
   "source": [
    "# Hierarchical inheritance"
   ]
  },
  {
   "cell_type": "code",
   "execution_count": 35,
   "id": "fe55416c",
   "metadata": {},
   "outputs": [],
   "source": [
    "class Parent1:\n",
    "    def assign_data(self,age,serial_no):\n",
    "        self.age=age\n",
    "        self.serial_no=serial_no\n",
    "    def show_details(self):\n",
    "        print(\"My age :- \",self.age)\n",
    "        print(\"My Serial_No is :- \",self.serial_no)\n",
    "class Child1(Parent1):\n",
    "    def assign_data1(self,gender,emp_id):\n",
    "        self.gender=gender\n",
    "        self.emp_id=emp_id\n",
    "    def show_details1(self):\n",
    "        print(\"My Gender :- \",self.gender)\n",
    "        print(\"My Employee ID :- \",self.emp_id)\n",
    "class Child2(Parent1):\n",
    "    def assign_data2(self,name,email):\n",
    "        self.name=name\n",
    "        self.email=email\n",
    "    def show_details2(self):\n",
    "        print(\"My Name is :- \",self.name)\n",
    "        print(\"My Email-Id is :- \",self.email)\n",
    "class Child3(Parent1):\n",
    "    def assign_data3(self,location,phone_number):\n",
    "        self.location=location\n",
    "        self.phone_number=phone_number\n",
    "    def show_details3(self):\n",
    "        print(\"My Location :-\",self.location)\n",
    "        print(\"My Phone Number is :- \",self.phone_number)"
   ]
  },
  {
   "cell_type": "code",
   "execution_count": 36,
   "id": "f0d3359b",
   "metadata": {},
   "outputs": [],
   "source": [
    "c1=Child1()"
   ]
  },
  {
   "cell_type": "code",
   "execution_count": 37,
   "id": "1c12997f",
   "metadata": {},
   "outputs": [],
   "source": [
    "c1.assign_data(34,123)"
   ]
  },
  {
   "cell_type": "code",
   "execution_count": 38,
   "id": "884f0783",
   "metadata": {},
   "outputs": [],
   "source": [
    "c1.assign_data1(\"Male\",190900)"
   ]
  },
  {
   "cell_type": "code",
   "execution_count": 39,
   "id": "d3f117af",
   "metadata": {},
   "outputs": [
    {
     "name": "stdout",
     "output_type": "stream",
     "text": [
      "My age :-  34\n",
      "My Serial_No is :-  123\n"
     ]
    }
   ],
   "source": [
    "c1.show_details()"
   ]
  },
  {
   "cell_type": "code",
   "execution_count": 40,
   "id": "904b1326",
   "metadata": {},
   "outputs": [
    {
     "name": "stdout",
     "output_type": "stream",
     "text": [
      "My Gender :-  Male\n",
      "My Employee ID :-  190900\n"
     ]
    }
   ],
   "source": [
    "c1.show_details1()"
   ]
  },
  {
   "cell_type": "code",
   "execution_count": 41,
   "id": "8dabcd37",
   "metadata": {},
   "outputs": [],
   "source": [
    "c2=Child2()"
   ]
  },
  {
   "cell_type": "code",
   "execution_count": 42,
   "id": "21558fe6",
   "metadata": {},
   "outputs": [],
   "source": [
    "c2.assign_data2(\"Sanjeev\",\"sp6406919@gmail.com\")"
   ]
  },
  {
   "cell_type": "code",
   "execution_count": 45,
   "id": "13726d3e",
   "metadata": {
    "scrolled": true
   },
   "outputs": [
    {
     "name": "stdout",
     "output_type": "stream",
     "text": [
      "My Name is :-  Sanjeev\n",
      "My Email-Id is :-  sp6406919@gmail.com\n"
     ]
    }
   ],
   "source": [
    "c2.show_details2()"
   ]
  },
  {
   "cell_type": "code",
   "execution_count": 46,
   "id": "08a8d54f",
   "metadata": {},
   "outputs": [],
   "source": [
    "c2.assign_data(34,190)"
   ]
  },
  {
   "cell_type": "code",
   "execution_count": 47,
   "id": "3c23396d",
   "metadata": {},
   "outputs": [
    {
     "name": "stdout",
     "output_type": "stream",
     "text": [
      "My age :-  34\n",
      "My Serial_No is :-  190\n"
     ]
    }
   ],
   "source": [
    "c2.show_details()"
   ]
  },
  {
   "cell_type": "code",
   "execution_count": 26,
   "id": "e7d894d4",
   "metadata": {},
   "outputs": [],
   "source": [
    "c3=Child3()"
   ]
  },
  {
   "cell_type": "code",
   "execution_count": 48,
   "id": "dca8134e",
   "metadata": {},
   "outputs": [],
   "source": [
    "c3.assign_data3(\"Roorkee\",7909845679)"
   ]
  },
  {
   "cell_type": "code",
   "execution_count": 49,
   "id": "89deb4e8",
   "metadata": {},
   "outputs": [],
   "source": [
    "c3.assign_data(56,190)"
   ]
  },
  {
   "cell_type": "code",
   "execution_count": 50,
   "id": "562af4c9",
   "metadata": {},
   "outputs": [
    {
     "name": "stdout",
     "output_type": "stream",
     "text": [
      "My Location :- Roorkee\n",
      "My Phone Number is :-  7909845679\n"
     ]
    }
   ],
   "source": [
    "c3.show_details4()"
   ]
  },
  {
   "cell_type": "code",
   "execution_count": 51,
   "id": "40b7b83d",
   "metadata": {},
   "outputs": [
    {
     "name": "stdout",
     "output_type": "stream",
     "text": [
      "My age :-  56\n",
      "My Serial_No is :-  190\n"
     ]
    }
   ],
   "source": [
    "c3.show_details()"
   ]
  },
  {
   "cell_type": "markdown",
   "id": "46f2b4ad",
   "metadata": {},
   "source": [
    "# Hybrid Inheritance"
   ]
  },
  {
   "cell_type": "code",
   "execution_count": 56,
   "id": "f67c90fe",
   "metadata": {},
   "outputs": [],
   "source": [
    "class Parent1:\n",
    "    def show_details1(self):\n",
    "        print(\"Parent Class 1\")\n",
    "class Child1(Parent1):\n",
    "    def show_details2(self):\n",
    "        print(\"Child Class 1\")\n",
    "class Child2(Parent1):\n",
    "    def show_details3(self):\n",
    "        print(\"Child Class 2\")\n",
    "class Grand_Child(Child1,Child2):\n",
    "    def show_details4(self):\n",
    "        print(\"Grand Child Class 1\")"
   ]
  },
  {
   "cell_type": "code",
   "execution_count": 57,
   "id": "3bfc60cc",
   "metadata": {},
   "outputs": [],
   "source": [
    "gd=Grand_Child()"
   ]
  },
  {
   "cell_type": "code",
   "execution_count": 60,
   "id": "f4ebf84b",
   "metadata": {},
   "outputs": [
    {
     "name": "stdout",
     "output_type": "stream",
     "text": [
      "Parent Class 1\n"
     ]
    }
   ],
   "source": [
    "gd.show_details1()"
   ]
  },
  {
   "cell_type": "code",
   "execution_count": 61,
   "id": "850b35bb",
   "metadata": {},
   "outputs": [
    {
     "name": "stdout",
     "output_type": "stream",
     "text": [
      "Child Class 1\n"
     ]
    }
   ],
   "source": [
    "gd.show_details2()"
   ]
  },
  {
   "cell_type": "code",
   "execution_count": 62,
   "id": "7165748a",
   "metadata": {},
   "outputs": [
    {
     "name": "stdout",
     "output_type": "stream",
     "text": [
      "Child Class 2\n"
     ]
    }
   ],
   "source": [
    "gd.show_details3()"
   ]
  },
  {
   "cell_type": "code",
   "execution_count": 63,
   "id": "4ef4f550",
   "metadata": {},
   "outputs": [
    {
     "name": "stdout",
     "output_type": "stream",
     "text": [
      "Grand Child Class 1\n"
     ]
    }
   ],
   "source": [
    "gd.show_details4()"
   ]
  },
  {
   "cell_type": "code",
   "execution_count": null,
   "id": "42688a7f",
   "metadata": {},
   "outputs": [],
   "source": []
  }
 ],
 "metadata": {
  "kernelspec": {
   "display_name": "Python 3 (ipykernel)",
   "language": "python",
   "name": "python3"
  },
  "language_info": {
   "codemirror_mode": {
    "name": "ipython",
    "version": 3
   },
   "file_extension": ".py",
   "mimetype": "text/x-python",
   "name": "python",
   "nbconvert_exporter": "python",
   "pygments_lexer": "ipython3",
   "version": "3.10.4"
  }
 },
 "nbformat": 4,
 "nbformat_minor": 5
}
